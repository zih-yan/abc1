{
  "nbformat": 4,
  "nbformat_minor": 0,
  "metadata": {
    "colab": {
      "provenance": [],
      "authorship_tag": "ABX9TyNtsKQgcv95smntXtcShp9a",
      "include_colab_link": true
    },
    "kernelspec": {
      "name": "python3",
      "display_name": "Python 3"
    },
    "language_info": {
      "name": "python"
    }
  },
  "cells": [
    {
      "cell_type": "markdown",
      "metadata": {
        "id": "view-in-github",
        "colab_type": "text"
      },
      "source": [
        "<a href=\"https://colab.research.google.com/github/zih-yan/abc1/blob/main/EX01_03_Rock_Paper_Scissors.ipynb\" target=\"_parent\"><img src=\"https://colab.research.google.com/assets/colab-badge.svg\" alt=\"Open In Colab\"/></a>"
      ]
    },
    {
      "cell_type": "code",
      "execution_count": 3,
      "metadata": {
        "id": "yKCShG8iR3mI",
        "colab": {
          "base_uri": "https://localhost:8080/"
        },
        "outputId": "93497692-d579-4d3e-ce80-72e3718d24a1"
      },
      "outputs": [
        {
          "output_type": "stream",
          "name": "stdout",
          "text": [
            "2\n",
            "computer: 0\n",
            "you lose\n"
          ]
        }
      ],
      "source": [
        "import random\n",
        "\n",
        "\n",
        "ply = int(input())\n",
        "cmp = random.choice( [0,2,5] )\n",
        "print('computer:', cmp)\n",
        "if ply == cmp:\n",
        "  print('draw')\n",
        "elif (ply == 0 and cmp == 2) or (ply == 2 and cmp == 5) or (ply == 5 and cmp == 0):\n",
        "  print('you win')\n",
        "else:\n",
        "  print('you lose')\n",
        "\n"
      ]
    }
  ]
}
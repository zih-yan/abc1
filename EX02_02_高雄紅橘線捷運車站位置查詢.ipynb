{
  "nbformat": 4,
  "nbformat_minor": 0,
  "metadata": {
    "colab": {
      "provenance": [],
      "authorship_tag": "ABX9TyNTq7aviNa7IhL8CGFhBOAU",
      "include_colab_link": true
    },
    "kernelspec": {
      "name": "python3",
      "display_name": "Python 3"
    },
    "language_info": {
      "name": "python"
    }
  },
  "cells": [
    {
      "cell_type": "markdown",
      "metadata": {
        "id": "view-in-github",
        "colab_type": "text"
      },
      "source": [
        "<a href=\"https://colab.research.google.com/github/zih-yan/abc1/blob/main/EX02_02_%E9%AB%98%E9%9B%84%E7%B4%85%E6%A9%98%E7%B7%9A%E6%8D%B7%E9%81%8B%E8%BB%8A%E7%AB%99%E4%BD%8D%E7%BD%AE%E6%9F%A5%E8%A9%A2.ipynb\" target=\"_parent\"><img src=\"https://colab.research.google.com/assets/colab-badge.svg\" alt=\"Open In Colab\"/></a>"
      ]
    },
    {
      "cell_type": "code",
      "execution_count": 1,
      "metadata": {
        "colab": {
          "base_uri": "https://localhost:8080/"
        },
        "id": "ojPA3AdNTS97",
        "outputId": "c11a7e21-dcb7-4a24-fa73-bc7a3ad7ba17"
      },
      "outputs": [
        {
          "output_type": "execute_result",
          "data": {
            "text/plain": [
              "200"
            ]
          },
          "metadata": {},
          "execution_count": 1
        }
      ],
      "source": [
        "import requests\n",
        "url = 'https://data.kcg.gov.tw/dataset/2629db6d-98ec-4b24-8ab1-5dc34d998460/resource/662f822c-632b-4cb3-80f6-b5ac053d210b/download/11311.json'\n",
        "response = requests.get(url)\n",
        "response.status_code\n"
      ]
    },
    {
      "cell_type": "markdown",
      "source": [],
      "metadata": {
        "id": "AF7Nww5JXDbl"
      }
    },
    {
      "cell_type": "code",
      "source": [
        "stats = response.json()\n",
        "stats[0]"
      ],
      "metadata": {
        "colab": {
          "base_uri": "https://localhost:8080/"
        },
        "id": "6Db1ZpRHVcig",
        "outputId": "c0a9a22e-c76d-4056-f289-a374c621ec93"
      },
      "execution_count": 2,
      "outputs": [
        {
          "output_type": "execute_result",
          "data": {
            "text/plain": [
              "{'seq': 1,\n",
              " '車站編號': 'R3',\n",
              " '車站中文名稱': '小港',\n",
              " '車站英文名稱': 'Siaogang',\n",
              " 'Latitude': 22.56481191,\n",
              " 'Longitude': 120.3538521}"
            ]
          },
          "metadata": {},
          "execution_count": 2
        }
      ]
    },
    {
      "cell_type": "code",
      "source": [
        "import csv\n",
        "\n",
        "wtr =[]\n",
        "wtr.append(list(stats[0].keys()))\n",
        "for stat in stats:\n",
        "    wtr.append(list(stat.values()))\n",
        "with open('stats.csv', 'w', newline='') as f:\n",
        "    writer = csv.writer(f)\n",
        "    writer.writerows(wtr)"
      ],
      "metadata": {
        "id": "iTvpywgFXit3"
      },
      "execution_count": 12,
      "outputs": []
    },
    {
      "cell_type": "code",
      "source": [
        "import csv\n",
        "\n",
        "with open(\"stats.csv\", \"r\") as file:\n",
        "    reader = csv.reader(file)\n",
        "    stats = list(reader)\n",
        "\n",
        "stats"
      ],
      "metadata": {
        "colab": {
          "base_uri": "https://localhost:8080/"
        },
        "id": "c_W_dpUxYLdb",
        "outputId": "8b6e087b-9f2c-4a1d-e5d1-5b12c2e85fd9"
      },
      "execution_count": 14,
      "outputs": [
        {
          "output_type": "execute_result",
          "data": {
            "text/plain": [
              "[['seq', '車站編號', '車站中文名稱', '車站英文名稱', 'Latitude', 'Longitude'],\n",
              " ['1', 'R3', '小港', 'Siaogang', '22.56481191', '120.3538521'],\n",
              " ['2',\n",
              "  'R4',\n",
              "  '高雄國際機場',\n",
              "  'Kaohsiung International Airport',\n",
              "  '22.57011232',\n",
              "  '120.3421469'],\n",
              " ['3', 'R4A', '草衙', 'Caoya', '22.58035095', '120.3284408'],\n",
              " ['4',\n",
              "  'R5',\n",
              "  '前鎮高中',\n",
              "  'Cianjhen Senior High School',\n",
              "  '22.58853833',\n",
              "  '120.3219713'],\n",
              " ['5', 'R6', '凱旋', 'Kaisyuan', '22.59683914', '120.3151478'],\n",
              " ['6', 'R7', '獅甲', 'Shihjia', '22.60583276', '120.307702'],\n",
              " ['7', 'R8', '三多商圈', 'Sanduo Shopping District', '22.61383541', '120.3046764'],\n",
              " ['8', 'R9', '中央公園', 'Central Park', '22.6245709', '120.3006424'],\n",
              " ['9', 'R10', '美麗島', 'Formosa Boulevard', '22.631386', '120.301951'],\n",
              " ['10', 'R11', '高雄車站', 'Kaohsiung Main Station', '22.63966255', '120.3027023'],\n",
              " ['11', 'R12', '後驛', 'Houyi', '22.64829692', '120.3033675'],\n",
              " ['12', 'R13', '凹子底', 'Aozaidi', '22.65718817', '120.3030886'],\n",
              " ['13', 'R14', '巨蛋', 'Kaohsiung Arena', '22.66657386', '120.3028955'],\n",
              " ['14', 'R15', '生態園區', 'Ecological District', '22.67681026', '120.3066935'],\n",
              " ['15', 'R16', '左營', 'Zuoying', '22.68801596', '120.3095473'],\n",
              " ['16', 'R17', '世運', 'World Games', '22.70217026', '120.3025307'],\n",
              " ['17',\n",
              "  'R18',\n",
              "  '油廠國小',\n",
              "  'Oil Refinery Elementary School',\n",
              "  '22.70848479',\n",
              "  '120.3023161'],\n",
              " ['18',\n",
              "  'R19',\n",
              "  '楠梓科技園區',\n",
              "  'Nanzih Technology Industrial Park',\n",
              "  '22.71863888',\n",
              "  '120.3072728'],\n",
              " ['19', 'R20', '後勁', 'Houjing', '22.72291407', '120.3163923'],\n",
              " ['20', 'R21', '都會公園', 'Metropolitan Park', '22.72932659', '120.3210486'],\n",
              " ['21', 'R22', '青埔', 'Cingpu', '22.74466397', '120.3177012'],\n",
              " ['22',\n",
              "  'R22A',\n",
              "  '橋頭糖廠',\n",
              "  'Ciaotou Sugar Refinery',\n",
              "  '22.75339067',\n",
              "  '120.3146113'],\n",
              " ['23', 'R23', '橋頭火車站', 'Ciaotou Station', '22.76045473', '120.310985'],\n",
              " ['24',\n",
              "  'R24',\n",
              "  '岡山高醫',\n",
              "  'Kaohsiung Medical University Gangshan Hospital',\n",
              "  '22.78058',\n",
              "  '120.30165'],\n",
              " ['25', 'O1', '哈瑪星', 'Hamasen', '22.62154049', '120.2745284'],\n",
              " ['26', 'O2', '鹽埕埔', 'Yanchengpu', '22.62350135', '120.2837767'],\n",
              " ['27', 'O4', '前金', 'Cianjin', '22.62898766', '120.2949347'],\n",
              " ['28', 'O5', '美麗島', 'Formosa Boulevard', '22.631386', '120.301951'],\n",
              " ['29', 'O6', '信義國小', 'Sinyi Elementary School', '22.63073055', '120.3116502'],\n",
              " ['30', 'O7', '文化中心', 'Cultual Center', '22.63039386', '120.3174438'],\n",
              " ['31', 'O8', '五塊厝', 'Wukuaicuo', '22.62952241', '120.3277005'],\n",
              " ['32', 'O9', '苓雅運動園區', 'Lingya Sports Park', '22.62722493', '120.3346313'],\n",
              " ['33', 'O10', '衛武營', 'Weiwuying', '22.62508586', '120.3410901'],\n",
              " ['34', 'O11', '鳳山西站', 'Fongshan West', '22.62530373', '120.3483428'],\n",
              " ['35', 'O12', '鳳山', 'Fongshan', '22.62597715', '120.3553595'],\n",
              " ['36', 'O13', '大東', 'Dadong', '22.62538296', '120.3632344'],\n",
              " ['37',\n",
              "  'O14',\n",
              "  '鳳山國中',\n",
              "  'Fongshan Junior High School',\n",
              "  '22.6248878',\n",
              "  '120.3724827'],\n",
              " ['38', 'OT1', '大寮', 'Daliao', '22.62239218', '120.389799'],\n",
              " ['39', 'O5/R10', '美麗島', 'Formosa Boulevard', '22.631386', '120.301951']]"
            ]
          },
          "metadata": {},
          "execution_count": 14
        }
      ]
    },
    {
      "cell_type": "code",
      "source": [
        "!pip install gradio -q"
      ],
      "metadata": {
        "colab": {
          "base_uri": "https://localhost:8080/"
        },
        "id": "6HZf1H3lYkxu",
        "outputId": "f599558a-d6c2-4d8f-a6aa-1d18a8e26960"
      },
      "execution_count": 17,
      "outputs": [
        {
          "output_type": "stream",
          "name": "stdout",
          "text": [
            "\u001b[2K   \u001b[90m━━━━━━━━━━━━━━━━━━━━━━━━━━━━━━━━━━━━━━━━\u001b[0m \u001b[32m46.2/46.2 MB\u001b[0m \u001b[31m19.6 MB/s\u001b[0m eta \u001b[36m0:00:00\u001b[0m\n",
            "\u001b[2K   \u001b[90m━━━━━━━━━━━━━━━━━━━━━━━━━━━━━━━━━━━━━━━━\u001b[0m \u001b[32m322.1/322.1 kB\u001b[0m \u001b[31m20.1 MB/s\u001b[0m eta \u001b[36m0:00:00\u001b[0m\n",
            "\u001b[2K   \u001b[90m━━━━━━━━━━━━━━━━━━━━━━━━━━━━━━━━━━━━━━━━\u001b[0m \u001b[32m94.9/94.9 kB\u001b[0m \u001b[31m6.8 MB/s\u001b[0m eta \u001b[36m0:00:00\u001b[0m\n",
            "\u001b[2K   \u001b[90m━━━━━━━━━━━━━━━━━━━━━━━━━━━━━━━━━━━━━━━━\u001b[0m \u001b[32m11.3/11.3 MB\u001b[0m \u001b[31m100.8 MB/s\u001b[0m eta \u001b[36m0:00:00\u001b[0m\n",
            "\u001b[2K   \u001b[90m━━━━━━━━━━━━━━━━━━━━━━━━━━━━━━━━━━━━━━━━\u001b[0m \u001b[32m72.0/72.0 kB\u001b[0m \u001b[31m5.3 MB/s\u001b[0m eta \u001b[36m0:00:00\u001b[0m\n",
            "\u001b[2K   \u001b[90m━━━━━━━━━━━━━━━━━━━━━━━━━━━━━━━━━━━━━━━━\u001b[0m \u001b[32m62.3/62.3 kB\u001b[0m \u001b[31m4.7 MB/s\u001b[0m eta \u001b[36m0:00:00\u001b[0m\n",
            "\u001b[?25h"
          ]
        }
      ]
    },
    {
      "cell_type": "code",
      "source": [
        "import gradio as gr\n",
        "\n",
        "def stat_info(id):\n",
        "  info = ''\n",
        "  for it in stats[1:]:\n",
        "      if it[1] == id:\n",
        "         info = f'車站編號：{it[1]}\\n中文名稱：{it[2]}\\n英文名稱：{it[3]}'\n",
        "         html = get_html(it[4], it[5])\n",
        "\n",
        "  return info, html\n",
        "\n",
        "def get_html(lat, lon):\n",
        "    lat = float(lat)\n",
        "    lon = float(lon)\n",
        "    html = f'''\n",
        "    <div style=\"width: 100%; height: 400px;\">\n",
        "    <iframe\n",
        "        width=\"100%\"\n",
        "        height=\"100%\"\n",
        "        frameborder=\"0\"\n",
        "        scrolling=\"no\"\n",
        "        marginheight=\"0\"\n",
        "        marginwidth=\"0\"\n",
        "        src=\"https://www.openstreetmap.org/export/embed.html?bbox={lon-0.01}%2C{lat-0.01}%2C{lon+0.01}%2C{lat+0.01}&layer=mapnik&marker={lat}%2C{lon}\">\n",
        "    </iframe>\n",
        "</div>\n",
        "    '''\n",
        "    return html\n",
        "\n",
        "menu = []\n",
        "for it in stats[1:]:\n",
        "    menu.append(it[1])\n",
        "\n",
        "gr.Interface(\n",
        "    fn = stat_info,\n",
        "    inputs = gr.Dropdown(choices = menu, label=\"車站編號：\"),\n",
        "    outputs = [ gr.Textbox(label=\"車站資訊：\") , gr.HTML(label='車站地圖')]\n",
        ").launch()\n",
        "\n",
        "def get_html(lat, lon):\n",
        "    let = float(lat)\n",
        "    lon = float(lon)\n",
        "    html = f'''\n",
        "    <div style=\"width: 100%; height: 400px;\">\n",
        "    <iframe\n",
        "        width=\"100%\"\n",
        "        height=\"100%\"\n",
        "        frameborder=\"0\"\n",
        "        scrolling=\"no\"\n",
        "        marginheight=\"0\"\n",
        "        marginwidth=\"0\"\n",
        "        src=\"https://www.openstreetmap.org/export/embed.html?bbox={lon-0.01}%2C{lat-0.01}%2C{lon+0.01}%2C{lat+0.01}&layer=mapnik&marker={lat}%2C{lon}\">\n",
        "    </iframe>\n",
        "</div>\n",
        "    '''\n",
        "    return html\n",
        "\n",
        "menu = []\n",
        "for it in stats[1:]:\n",
        "    menu.append(it[1])\n",
        "\n",
        "gr.Interface(\n",
        "    fn = stat_info,\n",
        "    inputs = gr.Dropdown(choices = menu, label=\"車站編號：\"),\n",
        "    outputs = [ gr.Textbox(label=\"車站資訊：\") , gr.HTML(label='車站地圖')]\n",
        ").launch()"
      ],
      "metadata": {
        "colab": {
          "base_uri": "https://localhost:8080/",
          "height": 1000
        },
        "id": "vYh3OO7QYtbF",
        "outputId": "9697ae30-40e5-4265-fb63-f64dadfeb677"
      },
      "execution_count": 19,
      "outputs": [
        {
          "output_type": "stream",
          "name": "stdout",
          "text": [
            "Running Gradio in a Colab notebook requires sharing enabled. Automatically setting `share=True` (you can turn this off by setting `share=False` in `launch()` explicitly).\n",
            "\n",
            "Colab notebook detected. To show errors in colab notebook, set debug=True in launch()\n",
            "* Running on public URL: https://ada30b8ca4b99801ad.gradio.live\n",
            "\n",
            "This share link expires in 72 hours. For free permanent hosting and GPU upgrades, run `gradio deploy` from the terminal in the working directory to deploy to Hugging Face Spaces (https://huggingface.co/spaces)\n"
          ]
        },
        {
          "output_type": "display_data",
          "data": {
            "text/plain": [
              "<IPython.core.display.HTML object>"
            ],
            "text/html": [
              "<div><iframe src=\"https://ada30b8ca4b99801ad.gradio.live\" width=\"100%\" height=\"500\" allow=\"autoplay; camera; microphone; clipboard-read; clipboard-write;\" frameborder=\"0\" allowfullscreen></iframe></div>"
            ]
          },
          "metadata": {}
        },
        {
          "output_type": "stream",
          "name": "stdout",
          "text": [
            "Running Gradio in a Colab notebook requires sharing enabled. Automatically setting `share=True` (you can turn this off by setting `share=False` in `launch()` explicitly).\n",
            "\n",
            "Colab notebook detected. To show errors in colab notebook, set debug=True in launch()\n",
            "* Running on public URL: https://6a8ab01238406331b0.gradio.live\n",
            "\n",
            "This share link expires in 72 hours. For free permanent hosting and GPU upgrades, run `gradio deploy` from the terminal in the working directory to deploy to Hugging Face Spaces (https://huggingface.co/spaces)\n"
          ]
        },
        {
          "output_type": "display_data",
          "data": {
            "text/plain": [
              "<IPython.core.display.HTML object>"
            ],
            "text/html": [
              "<div><iframe src=\"https://6a8ab01238406331b0.gradio.live\" width=\"100%\" height=\"500\" allow=\"autoplay; camera; microphone; clipboard-read; clipboard-write;\" frameborder=\"0\" allowfullscreen></iframe></div>"
            ]
          },
          "metadata": {}
        },
        {
          "output_type": "execute_result",
          "data": {
            "text/plain": []
          },
          "metadata": {},
          "execution_count": 19
        }
      ]
    }
  ]
}
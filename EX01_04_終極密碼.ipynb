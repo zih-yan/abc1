{
  "nbformat": 4,
  "nbformat_minor": 0,
  "metadata": {
    "colab": {
      "provenance": [],
      "authorship_tag": "ABX9TyPvwoUvzwuOrjIiF59bFerv",
      "include_colab_link": true
    },
    "kernelspec": {
      "name": "python3",
      "display_name": "Python 3"
    },
    "language_info": {
      "name": "python"
    }
  },
  "cells": [
    {
      "cell_type": "markdown",
      "metadata": {
        "id": "view-in-github",
        "colab_type": "text"
      },
      "source": [
        "<a href=\"https://colab.research.google.com/github/zih-yan/abc1/blob/main/EX01_04_%E7%B5%82%E6%A5%B5%E5%AF%86%E7%A2%BC.ipynb\" target=\"_parent\"><img src=\"https://colab.research.google.com/assets/colab-badge.svg\" alt=\"Open In Colab\"/></a>"
      ]
    },
    {
      "cell_type": "code",
      "execution_count": 23,
      "metadata": {
        "id": "pxziBIL-3S3D"
      },
      "outputs": [],
      "source": [
        "import random\n",
        "bomb = random.randint(1,99)\n",
        "\n",
        "lf = 0\n",
        "rt = 100\n",
        "\n",
        "qu= -1\n",
        "\n",
        "while qu == bomb:\n",
        "    print(lf, '-' , rt )\n",
        "    gu = int(input('guess:'))\n",
        "    if gu <= lf or gu >= rt:\n",
        "        print('超過範圍')\n",
        "    elif gu < bomb:\n",
        "      lf = gu\n",
        "    elif gu > bomb:\n",
        "      rt = gu\n",
        ""
      ]
    },
    {
      "cell_type": "code",
      "source": [],
      "metadata": {
        "id": "s62mhIGA_O6E"
      },
      "execution_count": null,
      "outputs": []
    },
    {
      "cell_type": "markdown",
      "source": [],
      "metadata": {
        "id": "Qeklhqkw_Pg1"
      }
    }
  ]
}
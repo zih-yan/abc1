{
  "nbformat": 4,
  "nbformat_minor": 0,
  "metadata": {
    "colab": {
      "provenance": [],
      "authorship_tag": "ABX9TyMS/BSg9nVp7tXFrmRTeONH",
      "include_colab_link": true
    },
    "kernelspec": {
      "name": "python3",
      "display_name": "Python 3"
    },
    "language_info": {
      "name": "python"
    }
  },
  "cells": [
    {
      "cell_type": "markdown",
      "metadata": {
        "id": "view-in-github",
        "colab_type": "text"
      },
      "source": [
        "<a href=\"https://colab.research.google.com/github/zih-yan/abc1/blob/main/EX05_03_Reply_Multi_type_Messages.ipynb\" target=\"_parent\"><img src=\"https://colab.research.google.com/assets/colab-badge.svg\" alt=\"Open In Colab\"/></a>"
      ]
    },
    {
      "cell_type": "code",
      "execution_count": 1,
      "metadata": {
        "colab": {
          "base_uri": "https://localhost:8080/"
        },
        "id": "X80OZ6Af7f8m",
        "outputId": "d29c95d0-8392-4fc3-e041-590e9fedbc16"
      },
      "outputs": [
        {
          "output_type": "stream",
          "name": "stdout",
          "text": [
            "\u001b[?25l   \u001b[90m━━━━━━━━━━━━━━━━━━━━━━━━━━━━━━━━━━━━━━━━\u001b[0m \u001b[32m0.0/776.1 kB\u001b[0m \u001b[31m?\u001b[0m eta \u001b[36m-:--:--\u001b[0m\r\u001b[2K   \u001b[91m━━━━━━━━━━━━━━\u001b[0m\u001b[91m╸\u001b[0m\u001b[90m━━━━━━━━━━━━━━━━━━━━━━━━━\u001b[0m \u001b[32m286.7/776.1 kB\u001b[0m \u001b[31m8.5 MB/s\u001b[0m eta \u001b[36m0:00:01\u001b[0m\r\u001b[2K   \u001b[91m━━━━━━━━━━━━━━━━━━━━━━━━━━━━━━━━━━━━━━━\u001b[0m\u001b[91m╸\u001b[0m \u001b[32m768.0/776.1 kB\u001b[0m \u001b[31m14.8 MB/s\u001b[0m eta \u001b[36m0:00:01\u001b[0m\r\u001b[2K   \u001b[90m━━━━━━━━━━━━━━━━━━━━━━━━━━━━━━━━━━━━━━━━\u001b[0m \u001b[32m776.1/776.1 kB\u001b[0m \u001b[31m10.6 MB/s\u001b[0m eta \u001b[36m0:00:00\u001b[0m\n",
            "\u001b[?25h\u001b[?25l   \u001b[90m━━━━━━━━━━━━━━━━━━━━━━━━━━━━━━━━━━━━━━━━\u001b[0m \u001b[32m0.0/165.6 kB\u001b[0m \u001b[31m?\u001b[0m eta \u001b[36m-:--:--\u001b[0m\r\u001b[2K   \u001b[90m━━━━━━━━━━━━━━━━━━━━━━━━━━━━━━━━━━━━━━━━\u001b[0m \u001b[32m165.6/165.6 kB\u001b[0m \u001b[31m7.9 MB/s\u001b[0m eta \u001b[36m0:00:00\u001b[0m\n",
            "\u001b[?25h"
          ]
        }
      ],
      "source": [
        "pip install -q flask pyngrok flask_ngrok line-bot-sdk"
      ]
    },
    {
      "cell_type": "code",
      "source": [
        "from google.colab import userdata\n",
        "from pyngrok import ngrok\n",
        "from flask_ngrok import run_with_ngrok\n",
        "\n",
        "def ngrok_start():\n",
        "    ngrok.set_auth_token(userdata.get(\"NGROK_AUTHTOKEN\"))\n",
        "    ngrok.connect(5200)\n",
        "\n",
        "# Flask 與 LINE BOT 初始化\n",
        "from flask import Flask, request, abort\n",
        "from linebot.v3 import WebhookHandler\n",
        "from linebot.v3.exceptions import InvalidSignatureError\n",
        "from linebot.v3.webhooks import MessageEvent, TextMessageContent\n",
        "from linebot.v3.messaging import (\n",
        "    Configuration, ApiClient, MessagingApi,\n",
        "    ReplyMessageRequest, TextMessage, StickerMessage,\n",
        "    ImageMessage, VideoMessage, LocationMessage\n",
        ")\n",
        "\n",
        "app = Flask(__name__)\n",
        "configuration = Configuration(access_token=userdata.get(\"LINE_CHANNEL_ACCESS_TOKEN\"))\n",
        "handler = WebhookHandler(userdata.get(\"LINE_CHANNEL_SECRET\"))\n",
        "\n",
        "@app.route(\"/callback\", methods=[\"POST\"])\n",
        "def callback():\n",
        "    signature = request.headers[\"X-Line-Signature\"]\n",
        "    body = request.get_data(as_text=True)\n",
        "    try:\n",
        "        handler.handle(body, signature)\n",
        "    except InvalidSignatureError:\n",
        "        abort(400)\n",
        "    return \"OK\"\n",
        "\n",
        "# 整合 Gemini 模型\n",
        "import google.generativeai as genai\n",
        "\n",
        "genai.configure(api_key=userdata.get(\"GOOGLE_API_KEY\"))\n",
        "model = genai.GenerativeModel(\"gemini-1.5-flash\")\n",
        "def ask_gemini(question):\n",
        "    response = model.generate_content(question)\n",
        "    return response.text\n",
        "\n",
        "# 處理使用者訊息\n",
        "@handler.add(MessageEvent, message=TextMessageContent)\n",
        "def handle_message(event):\n",
        "    with ApiClient(configuration) as api_client:\n",
        "        line_bot_api = MessagingApi(api_client)\n",
        "        action = event.message.text\n",
        "\n",
        "        if action == \"貼圖\":\n",
        "            reply = StickerMessage(package_id=\"1\", sticker_id=\"106\")\n",
        "        elif action == \"圖片\":\n",
        "            reply = ImageMessage(\n",
        "                original_content_url=\"https://cdn.pixabay.com/photo/2019/02/11/13/56/city-4011922_1280.jpg\",\n",
        "                preview_image_url=\"https://cdn.pixabay.com/photo/2019/02/11/13/56/city-4011922_320.jpg\"\n",
        "            )\n",
        "        elif action == \"影片\":\n",
        "            reply = VideoMessage(\n",
        "                original_content_url=\"https://cdn.pixabay.com/video/2021/07/08/727841-5734951_large.mp4\",\n",
        "                preview_image_url=\"https://cdn.pixabay.com/photo/2017/01/11/14/54/taipei-taiwan-1978618_1280.jpg\"\n",
        "            )\n",
        "        elif action == \"位置\":\n",
        "            reply = LocationMessage(\n",
        "                title=\"Taipei 101\",\n",
        "                address=\"台北市信義路五段7號\",\n",
        "                latitude=25.033968,\n",
        "                longitude=121.564568\n",
        "            )\n",
        "        else:\n",
        "            text_response = ask_gemini(action)\n",
        "            reply = TextMessage(text=text_response)\n",
        "\n",
        "        line_bot_api.reply_message(\n",
        "            ReplyMessageRequest(\n",
        "                reply_token=event.reply_token,\n",
        "                messages=[reply]\n",
        "            )\n",
        "        )\n",
        "\n",
        "# 啟動伺服器\n",
        "ngrok_start()\n",
        "if __name__ == \"__main__\":\n",
        "    app.run()\n",
        "\n",
        "def ngrok_start():\n",
        "    ngrok.set_auth_token(userdata.get(\"NGROK_AUTHTOKEN\"))\n",
        "    ngrok.connect(5200)\n",
        "\n",
        "# Flask 與 LINE BOT 初始化\n",
        "from flask import Flask, request, abort\n",
        "from linebot.v3 import WebhookHandler\n",
        "from linebot.v3.exceptions import InvalidSignatureError\n",
        "from linebot.v3.webhooks import MessageEvent, TextMessageContent\n",
        "from linebot.v3.messaging import (\n",
        "    Configuration, ApiClient, MessagingApi,\n",
        "    ReplyMessageRequest, TextMessage, StickerMessage,\n",
        "    ImageMessage, VideoMessage, LocationMessage\n",
        ")\n",
        "\n",
        "app = Flask(__name__)\n",
        "configuration = Configuration(access_token=userdata.get(\"LINE_CHANNEL_ACCESS_TOKEN\"))\n",
        "handler = WebhookHandler(userdata.get(\"LINE_CHANNEL_SECRET\"))\n",
        "\n",
        "@app.route(\"/callback\", methods=[\"POST\"])\n",
        "def callback():\n",
        "    signature = request.headers[\"X-Line-Signature\"]\n",
        "    body = request.get_data(as_text=True)\n",
        "    try:\n",
        "        handler.handle(body, signature)\n",
        "    except InvalidSignatureError:\n",
        "        abort(400)\n",
        "    return \"OK\"\n",
        "\n",
        "# 整合 Gemini 模型\n",
        "import google.generativeai as genai\n",
        "\n",
        "genai.configure(api_key=userdata.get(\"GOOGLE_API_KEY\"))\n",
        "model = genai.GenerativeModel(\"gemini-1.5-flash\")\n",
        "def ask_gemini(question):\n",
        "    response = model.generate_content(question)\n",
        "    return response.text\n",
        "\n",
        "# 處理使用者訊息\n",
        "@handler.add(MessageEvent, message=TextMessageContent)\n",
        "def handle_message(event):\n",
        "    with ApiClient(configuration) as api_client:\n",
        "        line_bot_api = MessagingApi(api_client)\n",
        "        action = event.message.text\n",
        "\n",
        "        if action == \"貼圖\":\n",
        "            reply = StickerMessage(package_id=\"1\", sticker_id=\"106\")\n",
        "        elif action == \"圖片\":\n",
        "            reply = ImageMessage(\n",
        "                original_content_url=\"https://cdn.pixabay.com/photo/2019/02/11/13/56/city-4011922_1280.jpg\",\n",
        "                preview_image_url=\"https://cdn.pixabay.com/photo/2019/02/11/13/56/city-4011922_320.jpg\"\n",
        "            )\n",
        "        elif action == \"影片\":\n",
        "            reply = VideoMessage(\n",
        "                original_content_url=\"https://cdn.pixabay.com/video/2021/07/08/727841-5734951_large.mp4\",\n",
        "                preview_image_url=\"https://cdn.pixabay.com/photo/2017/01/11/14/54/taipei-taiwan-1978618_1280.jpg\"\n",
        "            )\n",
        "        elif action == \"位置\":\n",
        "            reply = LocationMessage(\n",
        "                title=\"Taipei 101\",\n",
        "                address=\"台北市信義路五段7號\",\n",
        "                latitude=25.033968,\n",
        "                longitude=121.564568\n",
        "            )\n",
        "        else:\n",
        "            text_response = ask_gemini(action)\n",
        "            reply = TextMessage(text=text_response)\n",
        "\n",
        "        line_bot_api.reply_message(\n",
        "            ReplyMessageRequest(\n",
        "                reply_token=event.reply_token,\n",
        "                messages=[reply]\n",
        "            )\n",
        "        )\n",
        "\n",
        "# 啟動伺服器\n",
        "ngrok_start()\n",
        "if __name__ == \"__main__\":\n",
        "    app.run()"
      ],
      "metadata": {
        "colab": {
          "base_uri": "https://localhost:8080/"
        },
        "id": "t36Nd8sT71N1",
        "outputId": "03197b09-a888-47e9-af13-a140d52dcf01"
      },
      "execution_count": null,
      "outputs": [
        {
          "output_type": "stream",
          "name": "stdout",
          "text": [
            " * Serving Flask app '__main__'\n",
            " * Debug mode: off\n"
          ]
        },
        {
          "output_type": "stream",
          "name": "stderr",
          "text": [
            "INFO:werkzeug:\u001b[31m\u001b[1mWARNING: This is a development server. Do not use it in a production deployment. Use a production WSGI server instead.\u001b[0m\n",
            " * Running on http://127.0.0.1:5000\n",
            "INFO:werkzeug:\u001b[33mPress CTRL+C to quit\u001b[0m\n"
          ]
        }
      ]
    }
  ]
}
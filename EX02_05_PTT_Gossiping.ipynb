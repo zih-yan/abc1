{
  "nbformat": 4,
  "nbformat_minor": 0,
  "metadata": {
    "colab": {
      "provenance": [],
      "authorship_tag": "ABX9TyP8SX3XxA6mjT22YqpN2oG4",
      "include_colab_link": true
    },
    "kernelspec": {
      "name": "python3",
      "display_name": "Python 3"
    },
    "language_info": {
      "name": "python"
    }
  },
  "cells": [
    {
      "cell_type": "markdown",
      "metadata": {
        "id": "view-in-github",
        "colab_type": "text"
      },
      "source": [
        "<a href=\"https://colab.research.google.com/github/zih-yan/abc1/blob/main/EX02_05_PTT_Gossiping.ipynb\" target=\"_parent\"><img src=\"https://colab.research.google.com/assets/colab-badge.svg\" alt=\"Open In Colab\"/></a>"
      ]
    },
    {
      "cell_type": "markdown",
      "source": [
        "https://www.ptt.cc/bbs/Gossiping/index.html"
      ],
      "metadata": {
        "id": "OoKd_IVoNjGz"
      }
    },
    {
      "cell_type": "markdown",
      "source": [
        "# 電影版單篇\n"
      ],
      "metadata": {
        "id": "-b0CViuzQeig"
      }
    },
    {
      "cell_type": "code",
      "source": [
        "import requests\n",
        "from bs4 import BeautifulSoup\n",
        "\n",
        "url = 'https://www.ptt.cc/bbs/Movie/index.html'\n",
        "response = requests.get(url)\n",
        "response.status_code"
      ],
      "metadata": {
        "colab": {
          "base_uri": "https://localhost:8080/"
        },
        "id": "AChIgRPoNiBy",
        "outputId": "19abce5f-156b-4003-f578-2ce176434af5"
      },
      "execution_count": 4,
      "outputs": [
        {
          "output_type": "execute_result",
          "data": {
            "text/plain": [
              "200"
            ]
          },
          "metadata": {},
          "execution_count": 4
        }
      ]
    },
    {
      "cell_type": "code",
      "source": [
        "soup =  BeautifulSoup(response.text, 'lxml')\n",
        "soup.title"
      ],
      "metadata": {
        "colab": {
          "base_uri": "https://localhost:8080/"
        },
        "id": "zGo7bgafON88",
        "outputId": "350ce4dc-9eff-4618-9a5b-53e51b1a48b7"
      },
      "execution_count": 3,
      "outputs": [
        {
          "output_type": "execute_result",
          "data": {
            "text/plain": [
              "<title>看板 movie 文章列表 - 批踢踢實業坊</title>"
            ]
          },
          "metadata": {},
          "execution_count": 3
        }
      ]
    },
    {
      "cell_type": "code",
      "source": [
        "for atcl in soup.find_all('div', class_='r-ent'):\n",
        "    ttle = atcl.find('div', class_='title').a.text\n",
        "    href = 'https://www.ptt.cc' + atcl.find('div', class_='title').a.get('href')\n",
        "    date = atcl.find('div', class_='date').text\n",
        "    print(date, href, ttle)"
      ],
      "metadata": {
        "colab": {
          "base_uri": "https://localhost:8080/"
        },
        "id": "X4KJFyElOcmp",
        "outputId": "2a0b99bf-dc3a-4820-92ee-7b9a902b2f0a"
      },
      "execution_count": 4,
      "outputs": [
        {
          "output_type": "stream",
          "name": "stdout",
          "text": [
            " 3/25 https://www.ptt.cc/bbs/movie/M.1742882992.A.C16.html [請益] 月老 原著比電影好看很多嗎?\n",
            " 3/25 https://www.ptt.cc/bbs/movie/M.1742883654.A.D09.html [新聞] 星際寶貝選角太白爭議\n",
            " 3/25 https://www.ptt.cc/bbs/movie/M.1742885304.A.3BD.html [討論] 你最喜歡王家衛東邪西毒的哪個角色?\n",
            " 3/25 https://www.ptt.cc/bbs/movie/M.1742887173.A.C86.html [情報] 《迷宮裡的魔術師》9月日本上映\n",
            " 9/04 https://www.ptt.cc/bbs/movie/M.1630756788.A.1FE.html [公告] 電影板板規 2022/12/5\n",
            " 9/15 https://www.ptt.cc/bbs/movie/M.1694784041.A.89F.html [公告] 禁政治版規 及 投票結果\n"
          ]
        }
      ]
    },
    {
      "cell_type": "code",
      "source": [
        "'https://www.ptt.cc' + soup.find_all('a', class_='btn wide')[1].get('href')"
      ],
      "metadata": {
        "colab": {
          "base_uri": "https://localhost:8080/",
          "height": 35
        },
        "id": "fCh2pQduQBDW",
        "outputId": "9b090b6c-e642-4c36-a2a5-5f5f0eac8131"
      },
      "execution_count": 5,
      "outputs": [
        {
          "output_type": "execute_result",
          "data": {
            "text/plain": [
              "'https://www.ptt.cc/bbs/movie/index10542.html'"
            ],
            "application/vnd.google.colaboratory.intrinsic+json": {
              "type": "string"
            }
          },
          "metadata": {},
          "execution_count": 5
        }
      ]
    },
    {
      "cell_type": "markdown",
      "source": [
        "# 電影版5篇\n"
      ],
      "metadata": {
        "id": "jszJutn4Qy0q"
      }
    },
    {
      "cell_type": "code",
      "source": [
        "def get_articles(url):\n",
        "    response = requests.get(url)\n",
        "    soup =  BeautifulSoup(response.text, 'lxml')\n",
        "    for atcl in soup.find_all('div', class_='r-ent'):\n",
        "        if atcl.find('div', class_='title').a:\n",
        "           ttle = atcl.find('div', class_='title').a.text\n",
        "           href = 'https://www.ptt.cc' + atcl.find('div', class_='title').a.get('href')\n",
        "        else:\n",
        "            ttle = atcl.find('div', class_='title').text.strip()\n",
        "            href = ''\n",
        "        date = atcl.find('div', class_='date').text\n",
        "        print(date, href, ttle)\n",
        "    url = 'https://www.ptt.cc' + soup.find_all('a', class_='btn wide')[1].get('href')\n",
        "    return url\n",
        "\n",
        "url = 'https://www.ptt.cc/bbs/Movie/index.html'\n",
        "for i in range(5):\n",
        "    url = get_articles(url)"
      ],
      "metadata": {
        "colab": {
          "base_uri": "https://localhost:8080/"
        },
        "id": "lff1sIZMQ4ce",
        "outputId": "ec3468d6-09f2-46c0-e6f9-a0960288199c"
      },
      "execution_count": 7,
      "outputs": [
        {
          "output_type": "stream",
          "name": "stdout",
          "text": [
            " 3/25 https://www.ptt.cc/bbs/movie/M.1742882992.A.C16.html [請益] 月老 原著比電影好看很多嗎?\n",
            " 3/25 https://www.ptt.cc/bbs/movie/M.1742883654.A.D09.html [新聞] 星際寶貝選角太白爭議\n",
            " 3/25 https://www.ptt.cc/bbs/movie/M.1742885304.A.3BD.html [討論] 你最喜歡王家衛東邪西毒的哪個角色?\n",
            " 3/25 https://www.ptt.cc/bbs/movie/M.1742887173.A.C86.html [情報] 《迷宮裡的魔術師》9月日本上映\n",
            " 9/04 https://www.ptt.cc/bbs/movie/M.1630756788.A.1FE.html [公告] 電影板板規 2022/12/5\n",
            " 9/15 https://www.ptt.cc/bbs/movie/M.1694784041.A.89F.html [公告] 禁政治版規 及 投票結果\n",
            " 3/24 https://www.ptt.cc/bbs/movie/M.1742826405.A.F9F.html [好慢雷]  Mikey 17\n",
            " 3/24 https://www.ptt.cc/bbs/movie/M.1742826519.A.D95.html [新聞] 大阪亞洲影展 「我家的事」4台灣演員同獲藥師真珠獎\n",
            " 3/24 https://www.ptt.cc/bbs/movie/M.1742828958.A.3FB.html Re: [討論] 白雪公主該給誰演\n",
            " 3/25  (本文已被刪除) [XDGEE]\n",
            " 3/25 https://www.ptt.cc/bbs/movie/M.1742833366.A.CD3.html [新聞] 新版《惡靈古堡》真人電影劇情曝光！主角\n",
            " 3/25 https://www.ptt.cc/bbs/movie/M.1742833522.A.5C4.html [新聞] 伊莉莎白歐森想扮「老年版」緋紅女巫！喊\n",
            " 3/25 https://www.ptt.cc/bbs/movie/M.1742836118.A.D8B.html [討論] 強納森梅傑斯「雜誌夢」爛番茄81%\n",
            " 3/25 https://www.ptt.cc/bbs/movie/M.1742838281.A.3D3.html [討論] 變形金剛 萬獸崛起 \n",
            " 3/25 https://www.ptt.cc/bbs/movie/M.1742848612.A.7D0.html [超好雷] 特洛伊：木馬屠城\n",
            " 3/25 https://www.ptt.cc/bbs/movie/M.1742861864.A.E08.html [討論] 伊麗莎白歐森說她不會演復5復6\n",
            " 3/25 https://www.ptt.cc/bbs/movie/M.1742868018.A.5A0.html [討論] 關於進電影院這回事\n",
            " 3/25 https://www.ptt.cc/bbs/movie/M.1742868930.A.2AC.html Re: [討論] 白雪公主該給誰演\n",
            " 3/25 https://www.ptt.cc/bbs/movie/M.1742869316.A.EC6.html [新聞] 全新重啟版《神鬼傳奇》正式開拍 \n",
            " 3/25 https://www.ptt.cc/bbs/movie/M.1742869431.A.FB6.html [新聞] 漫威MCU宇宙第七階段預計推出的四部電影\n",
            " 3/25 https://www.ptt.cc/bbs/movie/M.1742869791.A.110.html [請益] 給我一首琴的時間 預告裡的英文歌是?\n",
            " 3/25 https://www.ptt.cc/bbs/movie/M.1742869993.A.4A0.html Re: [討論] 變形金剛 萬獸崛起 \n",
            " 3/25 https://www.ptt.cc/bbs/movie/M.1742876834.A.2EF.html [討論] 迪士尼公主哪個算是成功真人化？\n",
            " 3/25 https://www.ptt.cc/bbs/movie/M.1742879077.A.5FA.html [新聞] 無懼膚色爭議 《白雪公主》穩坐台美票房\n",
            " 3/25 https://www.ptt.cc/bbs/movie/M.1742880200.A.5C0.html [片單] 賺災難財的電影\n",
            " 3/25 https://www.ptt.cc/bbs/movie/M.1742881665.A.04A.html [新聞] 剛獲奧斯卡最佳紀錄片獎 巴勒斯坦導演遇襲後遭以軍逮捕\n",
            " 3/24 https://www.ptt.cc/bbs/movie/M.1742790359.A.D09.html [普雷] 妳是我眼中的蘋果-偶像劇框架的四不像\n",
            " 3/24 https://www.ptt.cc/bbs/movie/M.1742794880.A.0F3.html [新聞] 《白雪公主》真人電影上映！ 爭議一籮筐\n",
            " 3/24 https://www.ptt.cc/bbs/movie/M.1742796445.A.7C9.html [好雷] 《封神第二部：戰火西岐》比想像中有料\n",
            " 3/24 https://www.ptt.cc/bbs/movie/M.1742796508.A.6CA.html [新聞] 約翰卡本特為奉俊昊下部電影配樂\n",
            " 3/24 https://www.ptt.cc/bbs/movie/M.1742801877.A.064.html Re: [贈票] 究竟誰是兇手【無線殺機】北中南搶先看\n",
            " 3/24 https://www.ptt.cc/bbs/movie/M.1742802552.A.693.html [新聞] 觀眾不買單！《白雪公主》首週北美票房\n",
            " 3/24 https://www.ptt.cc/bbs/movie/M.1742804191.A.0CC.html [情報] 天作之合首支中文預告 \n",
            " 3/24 https://www.ptt.cc/bbs/movie/M.1742804334.A.7D0.html [好雷] 【Queer】這種美，是醍醐灌頂的享受\n",
            " 3/24 https://www.ptt.cc/bbs/movie/M.1742804690.A.FBF.html [討論] 真人化電影IMDB分數最後一名\n",
            " 3/24 https://www.ptt.cc/bbs/movie/M.1742805883.A.149.html [普雷]《青春末世物語》體制、地震、成長痛\n",
            " 3/24 https://www.ptt.cc/bbs/movie/M.1742808757.A.BB8.html [討論] 看過最爽的4DX電影\n",
            " 3/24  (本文已被刪除) [XDGEE]\n",
            " 3/24 https://www.ptt.cc/bbs/movie/M.1742818135.A.327.html [新聞] 馬修麥康納支持「征服者康」繼續拍戲！超\n",
            " 3/24 https://www.ptt.cc/bbs/movie/M.1742818206.A.3B8.html [新聞] 《白雪公主》票房創迪士尼新低！勞勃許奈\n",
            " 3/24 https://www.ptt.cc/bbs/movie/M.1742818647.A.9E4.html [新聞] 迪士尼《白雪公主》爆好評！電影上映穩\n",
            " 3/24 https://www.ptt.cc/bbs/movie/M.1742820071.A.B49.html [普雷]《Queer》：老少男同志的中門對狙\n",
            " 3/24 https://www.ptt.cc/bbs/movie/M.1742821966.A.FF2.html [新聞] IMDB評2.2分真人版「白雪公主」\n",
            " 3/24 https://www.ptt.cc/bbs/movie/M.1742822298.A.8F2.html [問片] 想找一種類型的電影\n",
            " 3/24 https://www.ptt.cc/bbs/movie/M.1742824490.A.E4E.html Re: [討論] 看過最爽的4DX電影\n",
            " 3/24 https://www.ptt.cc/bbs/movie/M.1742825277.A.38C.html [討論] 白雪公主該給誰演\n",
            " 3/23 https://www.ptt.cc/bbs/movie/M.1742736798.A.FF8.html [普雷] 白雪公主\n",
            " 3/23 https://www.ptt.cc/bbs/movie/M.1742737781.A.608.html [微好雷] 我們的故事未來待續\n",
            " 3/23 https://www.ptt.cc/bbs/movie/M.1742738301.A.D16.html [好雷] 白雪公主 (1937年版)\n",
            " 3/23 https://www.ptt.cc/bbs/movie/M.1742738632.A.E99.html [大爆雷] 小小的我\n",
            " 3/23 https://www.ptt.cc/bbs/movie/M.1742740720.A.5FA.html [討論] 烏爾善的三部曲成本也太高了吧？\n",
            " 3/23 https://www.ptt.cc/bbs/movie/M.1742741955.A.B1F.html [討論] Felicity Jones 有搞頭嗎\n",
            " 3/23 https://www.ptt.cc/bbs/movie/M.1742742110.A.525.html [普好雷] 給我一首琴的時間-時機的浪漫變奏\n",
            " 3/23 https://www.ptt.cc/bbs/movie/M.1742743911.A.933.html [情報] 3/23 當週12部新片預告+Youtube觀看排行\n",
            " 3/23 https://www.ptt.cc/bbs/movie/M.1742744549.A.D6D.html [好無雷] 【不丹是幸福】沒有比較沒有傷害\n",
            " 3/24 https://www.ptt.cc/bbs/movie/M.1742746631.A.12C.html [好雷] 封神第二部：戰火西岐\n",
            " 3/24 https://www.ptt.cc/bbs/movie/M.1742746938.A.446.html [新聞] 白雪公主首周4300萬美金\n",
            " 3/24 https://www.ptt.cc/bbs/movie/M.1742747464.A.785.html [片單] 請問韓國搞笑片\n",
            " 3/24 https://www.ptt.cc/bbs/movie/M.1742751374.A.FA1.html Re: [討論] 電影院是不是沒落了？\n",
            " 3/24 https://www.ptt.cc/bbs/movie/M.1742753293.A.E60.html [負雷]白雪公主2025電影版觀後感 \n",
            " 3/24 https://www.ptt.cc/bbs/movie/M.1742754841.A.581.html Re: [討論] 電影院是不是沒落了？\n",
            " 3/24 https://www.ptt.cc/bbs/movie/M.1742771690.A.B9E.html [新聞] 1937動畫《白雪公主》、2025電影真人版 \n",
            " 3/24 https://www.ptt.cc/bbs/movie/M.1742778081.A.F5F.html [討論] 演員的肢體語言影響觀影感受\n",
            " 3/24 https://www.ptt.cc/bbs/movie/M.1742785444.A.84E.html [微好雷] 《吸血鬼：諾斯費拉圖》 \n",
            " 3/24 https://www.ptt.cc/bbs/movie/M.1742788129.A.06B.html Re: [討論] 電影院是不是沒落了？\n",
            " 3/24 https://www.ptt.cc/bbs/movie/M.1742790075.A.B25.html [請益] 老片重映的播放格式\n",
            " 3/23 https://www.ptt.cc/bbs/movie/M.1742704684.A.934.html Re: [討論] 電影院是不是沒落了？\n",
            " 3/23 https://www.ptt.cc/bbs/movie/M.1742704843.A.DD1.html [微好雷] 奧黛莎\n",
            " 3/23 https://www.ptt.cc/bbs/movie/M.1742707261.A.2E8.html Re: [討論] 電影院是不是沒落了？\n",
            " 3/23 https://www.ptt.cc/bbs/movie/M.1742711306.A.963.html Re: [討論] 國外白雪公主首映包場\n",
            " 3/23 https://www.ptt.cc/bbs/movie/M.1742711361.A.2BE.html [好雷]封神二:戰火西岐 \n",
            " 3/23 https://www.ptt.cc/bbs/movie/M.1742712745.A.6FF.html [新聞] 2025《白雪公主》靠5大超能力「逆轉勝」\n",
            " 3/23  (本文已被刪除) [dodoro1]\n",
            " 3/23  (本文已被刪除) [dodoro1]\n",
            " 3/23 https://www.ptt.cc/bbs/movie/M.1742714173.A.7DB.html [新聞] 蘋果在串流媒體服務每年虧損超過10億美元\n",
            " 3/23  (本文已被刪除) [Angela]\n",
            " 3/23  (本文已被刪除) [Angela]\n",
            " 3/23 https://www.ptt.cc/bbs/movie/M.1742717107.A.915.html Re: [討論] 電影院是不是沒落了？\n",
            " 3/23 https://www.ptt.cc/bbs/movie/M.1742717149.A.ACF.html [討論] 大家一年看幾部電影？\n",
            " 3/23 https://www.ptt.cc/bbs/movie/M.1742719686.A.C1D.html [片單] 韓國2024推薦\n",
            " 3/23 https://www.ptt.cc/bbs/movie/M.1742722596.A.2BD.html [負雷] 六弄咖啡館什麼大爛片…\n",
            " 3/23 https://www.ptt.cc/bbs/movie/M.1742726638.A.E45.html [請益] YouTube都在黑白雪公主是怎樣\n",
            " 3/23 https://www.ptt.cc/bbs/movie/M.1742727997.A.8D4.html [超好雷] 《青春末世物語》(HAPPYEND)\n",
            " 3/23 https://www.ptt.cc/bbs/movie/M.1742729886.A.24A.html [負雷] 《白雪公主》  毀滅童年的真人災難秀\n",
            " 3/23 https://www.ptt.cc/bbs/movie/M.1742731026.A.DE4.html [好雷] 封神第二部：戰火西岐\n",
            " 3/23 https://www.ptt.cc/bbs/movie/M.1742731732.A.26F.html [負無雷] 大力水手：血腥菠菜\n"
          ]
        }
      ]
    },
    {
      "cell_type": "markdown",
      "source": [
        "# 美食版5篇\n"
      ],
      "metadata": {
        "id": "Tq0g369YtYSf"
      }
    },
    {
      "cell_type": "code",
      "source": [
        "def get_articles(url):\n",
        "    response = requests.get(url)\n",
        "    soup =  BeautifulSoup(response.text, 'lxml')\n",
        "    for atcl in soup.find_all('div', class_='r-ent'):\n",
        "        if atcl.find('div', class_='title').a:\n",
        "           ttle = atcl.find('div', class_='title').a.text\n",
        "           href = 'https://www.ptt.cc' + atcl.find('div', class_='title').a.get('href')\n",
        "        else:\n",
        "            ttle = atcl.find('div', class_='title').text.strip()\n",
        "            href = ''\n",
        "        date = atcl.find('div', class_='date').text\n",
        "        print(date, href, ttle)\n",
        "    url = 'https://www.ptt.cc' + soup.find_all('a', class_='btn wide')[1].get('href')\n",
        "    return url\n",
        "\n",
        "url = 'https://www.ptt.cc/bbs/Food/index.html'\n",
        "for i in range(5):\n",
        "    url = get_articles(url)"
      ],
      "metadata": {
        "colab": {
          "base_uri": "https://localhost:8080/"
        },
        "id": "5FWSH0lLuWep",
        "outputId": "250641b0-b6b9-46d5-dcea-215b0aaac9c6"
      },
      "execution_count": 3,
      "outputs": [
        {
          "output_type": "stream",
          "name": "stdout",
          "text": [
            " 3/30 https://www.ptt.cc/bbs/Food/M.1743310289.A.717.html [食記] 嘉義東區—羅山生炒鱔魚麵｜炭燒味生炒鱔魚麵只賣四小時\n",
            " 3/30 https://www.ptt.cc/bbs/Food/M.1743319033.A.85B.html [請益] 台北藍線8人家族聚餐\n",
            " 3/30 https://www.ptt.cc/bbs/Food/M.1743329615.A.867.html [食記] 京都出町柳 COYOTE Roastery\n",
            " 3/30 https://www.ptt.cc/bbs/Food/M.1743344370.A.204.html [食記] 桃園中壢區。豐味食堂\n",
            " 3/30  (本文已被刪除) [JimXpp]\n",
            " 3/30  (本文已被刪除) [JimXpp]\n",
            " 3/30 https://www.ptt.cc/bbs/Food/M.1743345355.A.090.html [食記] 京都五条 LORIMER KYOTO 烤魚早餐\n",
            " 3/30 https://www.ptt.cc/bbs/Food/M.1743346687.A.74A.html [食記] 日本 福岡 小倉 一平本店\n",
            " 3/31 https://www.ptt.cc/bbs/Food/M.1743351091.A.5BA.html [食記] 台北101鼎泰豐\n",
            " 3/31 https://www.ptt.cc/bbs/Food/M.1743351356.A.5E6.html [食記] 法國尼斯 Kiosque tintin 吃尼斯三明治\n",
            " 3/31 https://www.ptt.cc/bbs/Food/M.1743351484.A.16E.html [食記] 台北大同 慈音古早味阿婆飯糰 神奇的排隊店\n",
            " 3/31 https://www.ptt.cc/bbs/Food/M.1743359473.A.035.html [食記] 瑞典 斯德哥爾摩 Herno Gin Bar\n",
            " 3/31 https://www.ptt.cc/bbs/Food/M.1743394382.A.4C8.html [食記] 新竹 阿瑛潤餅（仁德街口無名潤餅）\n",
            " 3/31 https://www.ptt.cc/bbs/Food/M.1743406110.A.DEA.html [食記] 台南UNOS CAF줠甜點與咖啡的極致享受\n",
            " 3/31 https://www.ptt.cc/bbs/Food/M.1743415376.A.40E.html [食記] 北港鼎太香菇肉羹 新北新莊 肉羹及滷肉飯\n",
            " 3/31 https://www.ptt.cc/bbs/Food/M.1743424850.A.DE1.html [食記] Monday不blue！∥板橋∥松江街∥旧宅在 \n",
            " 3/31 https://www.ptt.cc/bbs/Food/M.1743426274.A.0B1.html [食記] 彰化 八卦山下燒肉圓\n",
            " 3/31 https://www.ptt.cc/bbs/Food/M.1743428942.A.DAC.html [食記] 香港 蛇王熙\n",
            " 3/31 https://www.ptt.cc/bbs/Food/M.1743432162.A.676.html [食記] 新北 THE PIZZA 惹披薩輔大店披薩吃到飽\n",
            "12/16 https://www.ptt.cc/bbs/Food/M.1355673582.A.5F7.html [公告] Food板 板規 V3.91\n",
            " 9/28 https://www.ptt.cc/bbs/Food/M.1190944426.A.E6C.html [公告] 發文請在標題加上地區及提供地址電話。^^\n",
            "10/01 https://www.ptt.cc/bbs/Food/M.1128132666.A.0FD.html [公告] 文章被刪除者請洽精華區的資源回收桶\n",
            " 6/04 https://www.ptt.cc/bbs/Food/M.1496532469.A.C36.html [公告] 新增板規22：發文禁附延伸閱讀連結\n",
            " 3/27 https://www.ptt.cc/bbs/Food/M.1743040761.A.943.html [食記] 隣tonari拉麵 台北大安 濃郁豚骨魚介沾麵\n",
            " 3/27 https://www.ptt.cc/bbs/Food/M.1743055596.A.E75.html [食記] 內湖環山路上Le Mani 琢手咖啡 \n",
            " 3/27 https://www.ptt.cc/bbs/Food/M.1743063492.A.ACC.html [食記] 台北士林—忠義街蘿蔔絲餅｜傳承二代人氣銅板下午茶\n",
            " 3/27 https://www.ptt.cc/bbs/Food/M.1743084000.A.5DA.html [食記] 日本 長崎 雲龍亭 (銅座店)\n",
            " 3/27 https://www.ptt.cc/bbs/Food/M.1743084559.A.AD5.html [食記] 桃園。頭頓煎蝦餅\n",
            " 3/27 https://www.ptt.cc/bbs/Food/M.1743091195.A.FD4.html [食記] 日本福岡 水炊料亭 博多華味鳥 天神店\n",
            " 3/28 https://www.ptt.cc/bbs/Food/M.1743128568.A.1F7.html [廣宣] 台北 新開幕的日式炙燒鴨肉專門店-鴨箱\n",
            " 3/28 https://www.ptt.cc/bbs/Food/M.1743130667.A.9FC.html [食記] 香港旺角 金華冰廳 美味菠蘿油邪惡西多士\n",
            " 3/28 https://www.ptt.cc/bbs/Food/M.1743133621.A.537.html [食記] 社子魚丸 台北士林 魚丸配辣高麗菜冬粉湯\n",
            " 3/28 https://www.ptt.cc/bbs/Food/M.1743156437.A.E3D.html [食記] 新竹素食|田土山。藏身市區無菜單料理\n",
            " 3/28 https://www.ptt.cc/bbs/Food/M.1743156669.A.27D.html [食記] 桃園平鎮區。巧御食光\n",
            " 3/28 https://www.ptt.cc/bbs/Food/M.1743170470.A.833.html [食記] 香港 新桂香燒臘\n",
            " 3/29 https://www.ptt.cc/bbs/Food/M.1743224109.A.144.html [食記] 宜蘭 大成 羊排麵牛肉麵\n",
            " 3/29 https://www.ptt.cc/bbs/Food/M.1743243245.A.229.html [食記] 捷克 帝國咖啡廳 世界最美十大咖啡廳\n",
            " 3/29 https://www.ptt.cc/bbs/Food/M.1743246299.A.234.html [食記] 台中 西區｜迴香印度餐廳 Savory Curry\n",
            " 3/29 https://www.ptt.cc/bbs/Food/M.1743250396.A.653.html [食記] 新北板橋 谷藺 x Sweet Bites Lab\n",
            " 3/29 https://www.ptt.cc/bbs/Food/M.1743260620.A.873.html [食記] 懷舊中卷麵線 桃園龜山 中卷大腸肉羹麵線\n",
            " 3/30 https://www.ptt.cc/bbs/Food/M.1743266351.A.739.html [食記] 法國尼斯 Chez Pipo尼斯洋蔥塔鷹嘴豆煎餅\n",
            " 3/30 https://www.ptt.cc/bbs/Food/M.1743302590.A.408.html [食記] 微香 新竹竹北 香濃青醬豬肉水管義大利麵\n",
            " 3/30 https://www.ptt.cc/bbs/Food/M.1743305782.A.B75.html [食記] 泰國佛統府 Manpai Sainam Cafe\n",
            " 3/24 https://www.ptt.cc/bbs/Food/M.1742808041.A.0BE.html [食記] 桃園 平鎮 松源客家菜館\n",
            " 3/24 https://www.ptt.cc/bbs/Food/M.1742824448.A.FB6.html [食記] 台北 CHA CHA THÉ CUISINE采采食茶\n",
            " 3/24 https://www.ptt.cc/bbs/Food/M.1742829379.A.4FD.html [食記] 桃園 Mellowed Me 美若靡商行 美味甜點店\n",
            " 3/25 https://www.ptt.cc/bbs/Food/M.1742836224.A.B4E.html [食記] 台北 文山 老饒牛肉麵店\n",
            " 3/25 https://www.ptt.cc/bbs/Food/M.1742876273.A.906.html [食記] いづ重 日本京都 醋飯酸香風味淡雅箱壽司\n",
            " 3/25 https://www.ptt.cc/bbs/Food/M.1742908442.A.E76.html [食記] 台北 一甲子餐飲 米其林必比登\n",
            " 3/25 https://www.ptt.cc/bbs/Food/M.1742910899.A.DFE.html [食記] 新竹 墨多 再訪\n",
            " 3/25 https://www.ptt.cc/bbs/Food/M.1742911175.A.7EF.html [食記] 日本 大阪 日本橋 なにわ新風 日本橋總本\n",
            " 3/25 https://www.ptt.cc/bbs/Food/M.1742911524.A.689.html [食記] 桃園平鎮區。天津小籠包（矮房子）\n",
            " 3/25 https://www.ptt.cc/bbs/Food/M.1742916544.A.1DE.html [食記] 台中 新天地崇德旗艦店-樂食自助百匯 \n",
            " 3/25 https://www.ptt.cc/bbs/Food/M.1742917338.A.192.html [食記] 基隆中正區-朴庶韓國烤肉 基隆北寧店\n",
            " 3/26 https://www.ptt.cc/bbs/Food/M.1742960584.A.F75.html [食記] 沖茶 台北信義 清香香蘭葉冰茶香蘭葉甜糕\n",
            " 3/26 https://www.ptt.cc/bbs/Food/M.1742969454.A.BA4.html [廣宣] 南港 LaLaport舒芙蕾鬆餅推-武蔵野森珈琲\n",
            " 3/26 https://www.ptt.cc/bbs/Food/M.1742975399.A.0C1.html [食記] 台南北區 賀呷肉燥飯虱目魚\n",
            " 3/26 https://www.ptt.cc/bbs/Food/M.1742976377.A.E18.html [食記] 高雄苓雅區 正義蚵仔麵線\n",
            " 3/26 https://www.ptt.cc/bbs/Food/M.1742983548.A.C75.html [食記] 台南學甲 順德土產牛肉湯\n",
            " 3/26 https://www.ptt.cc/bbs/Food/M.1742993240.A.533.html [食記] 新竹 三千金現做潤餅 ～遊走各市場間\n",
            " 3/26 https://www.ptt.cc/bbs/Food/M.1742996902.A.907.html [食記] 台中 ISOLA Dining & Bar\n",
            " 3/26 https://www.ptt.cc/bbs/Food/M.1743001873.A.D17.html [食記] 花蓮 強蛋餅 花蓮大東夜市 蛋餅好好吃\n",
            " 3/26 https://www.ptt.cc/bbs/Food/M.1743002256.A.A2A.html [食記] 花蓮玉里鎮不思閣米甜圈\n",
            " 3/22 https://www.ptt.cc/bbs/Food/M.1742576568.A.78E.html [食記] 台北 大安 詹記麻辣火鍋(敦南店)\n",
            " 3/22 https://www.ptt.cc/bbs/Food/M.1742608702.A.5D7.html [食記] 東京燒肉 蕃ebisu yoroniku  \n",
            " 3/22 https://www.ptt.cc/bbs/Food/M.1742631341.A.9C4.html [食記] 台中 中區｜敷酒串屋 FU JIU\n",
            " 3/22 https://www.ptt.cc/bbs/Food/M.1742635712.A.94F.html [食記] 桃園。法大炸雞\n",
            " 3/22 https://www.ptt.cc/bbs/Food/M.1742635962.A.A21.html [食記] 炸豬排檍 日本東京 香酥炸豬排搭伍斯特醬\n",
            " 3/22 https://www.ptt.cc/bbs/Food/M.1742655463.A.A04.html [食記] 東京六厘舍|車站地下街~大份量沾麵\n",
            " 3/23 https://www.ptt.cc/bbs/Food/M.1742690549.A.5A6.html [食記] 正宗岡山羊肉 新北土城 麻油炒羊肉羊雜湯\n",
            " 3/23 https://www.ptt.cc/bbs/Food/M.1742692135.A.5D5.html [食記] 竹北 日式板前無菜單料理，豪軒\n",
            " 3/23 https://www.ptt.cc/bbs/Food/M.1742695050.A.094.html [食記] 日本東京 HARBS澀谷櫻花舞台店\n",
            " 3/23 https://www.ptt.cc/bbs/Food/M.1742695486.A.EA9.html [食記] 泰國佛統府 After the Rain Coffee\n",
            " 3/23 https://www.ptt.cc/bbs/Food/M.1742702180.A.D4C.html [食記] 澳門。倫敦人酒店-Shake Shack漢堡\n",
            " 3/23 https://www.ptt.cc/bbs/Food/M.1742705372.A.6A7.html [食記] 斗南 榕苑古蹟餐飲\n",
            " 3/23 https://www.ptt.cc/bbs/Food/M.1742709100.A.1A8.html [食記] 東京新宿 AFURI 新宿ルミネ 柚子鹽味拉麵\n",
            " 3/23 https://www.ptt.cc/bbs/Food/M.1742735426.A.EB7.html [食記] 台中 飪室咖哩\n",
            " 3/23 https://www.ptt.cc/bbs/Food/M.1742739508.A.DB2.html [食記] 桃園蘆竹區。許家肉圓\n",
            " 3/23 https://www.ptt.cc/bbs/Food/M.1742739611.A.69C.html [食記] 日本 長崎 長崎車站 中華大八\n",
            " 3/24 https://www.ptt.cc/bbs/Food/M.1742752182.A.C6F.html [請益] 信義區下午就能喝酒吃小菜的地方\n",
            " 3/24 https://www.ptt.cc/bbs/Food/M.1742783430.A.F20.html [食記] 台南 阿龍香腸熟肉 老味道 阿舍菜\n",
            " 3/24 https://www.ptt.cc/bbs/Food/M.1742784937.A.425.html [食記] 昌明豆漿小籠包 新北新莊 香麻辣Q小籠包\n",
            " 3/24 https://www.ptt.cc/bbs/Food/M.1742799570.A.10F.html Fw: [食記] 東京 つばめグリル 多蜜醬紙包燉煮漢堡排\n",
            " 3/19 https://www.ptt.cc/bbs/Food/M.1742395894.A.2E4.html [食記] 美國 北加人氣咖啡Verve Coffee Roasters\n",
            " 3/20 https://www.ptt.cc/bbs/Food/M.1742428245.A.34B.html [食記] 日本高千穗-雞肉好吃又特別-鶏の炭火焼 \n",
            " 3/20 https://www.ptt.cc/bbs/Food/M.1742434318.A.C20.html [廣宣] 新北 平價串燒19元起-柒息地串燒居酒屋\n",
            " 3/20 https://www.ptt.cc/bbs/Food/M.1742441653.A.14F.html [請益] 雙北適合家庭聚餐的餐廳(桌菜為主)\n",
            " 3/20 https://www.ptt.cc/bbs/Food/M.1742449689.A.536.html [食記] 台北中正 華山町餐酒館\n",
            " 3/20 https://www.ptt.cc/bbs/Food/M.1742460087.A.AAA.html [食記] 麵屋高倉二条 日本京都 豚骨魚介牛腸沾麵\n",
            " 3/20 https://www.ptt.cc/bbs/Food/M.1742462141.A.778.html [食記] 台中 豐原廟東夜市懶人包，菱角酥/蒜肉飯\n",
            " 3/20 https://www.ptt.cc/bbs/Food/M.1742470166.A.BFE.html [食記] 台南東區 黑家麵館 好吃的涼皮 免費冷飲\n",
            " 3/20 https://www.ptt.cc/bbs/Food/M.1742473819.A.45C.html [食記] 彰化 與咖啡 本事空間設計獨棟美宅\n",
            " 3/20 https://www.ptt.cc/bbs/Food/M.1742473964.A.770.html [食記] 雪梨5間咖啡廳推薦：Single O, Campos \n",
            " 3/20 https://www.ptt.cc/bbs/Food/M.1742479629.A.D2D.html [食記] 基隆市信義區-麵匡匡拉麵食堂 基隆深溪店\n",
            " 3/20 https://www.ptt.cc/bbs/Food/M.1742479758.A.EDC.html [食記] 台北 TIPSY Sparrow\n",
            " 3/20 https://www.ptt.cc/bbs/Food/M.1742480837.A.CBF.html [食記] 桃園中壢區。清牛堂 專業清燉牛肉麵\n",
            " 3/20 https://www.ptt.cc/bbs/Food/M.1742482677.A.C33.html [食記] 羅東 悟饕 台式控肉飯包\n",
            " 3/21 https://www.ptt.cc/bbs/Food/M.1742491464.A.D55.html [食記] 台北 內湖 東引快刀手內湖店\n",
            " 3/21 https://www.ptt.cc/bbs/Food/M.1742515056.A.D30.html [食記] 桃園中壢-多樣和牛吃到飽-和牛涮\n",
            " 3/21 https://www.ptt.cc/bbs/Food/M.1742516450.A.B91.html [食記] 高雄.美濃-阿香的廚房\n",
            " 3/21 https://www.ptt.cc/bbs/Food/M.1742554795.A.AF1.html [食記] 三姐妹餐飲店 基隆仁愛 五味軟絲炸紅燒鰻\n",
            " 3/21 https://www.ptt.cc/bbs/Food/M.1742563372.A.B6B.html [食記] 日本 HARBS 午間套餐\n",
            " 3/21 https://www.ptt.cc/bbs/Food/M.1742566946.A.054.html [食記] 香港 天龍軒 (米其林二星)\n"
          ]
        }
      ]
    },
    {
      "cell_type": "markdown",
      "source": [
        "# 八卦版5篇"
      ],
      "metadata": {
        "id": "KPPSIE-3vjzK"
      }
    },
    {
      "cell_type": "code",
      "source": [
        "def get_articles(url):\n",
        "    response = requests.get(url, cookies=cookies)\n",
        "    soup = BeautifulSoup(response.text, 'lxml')\n",
        "    for atcl in soup.find_all('div', class_='r-ent'):\n",
        "        if atcl.find('div', class_='title').a:\n",
        "            ttle = atcl.find('div', class_='title').a.text\n",
        "            href = 'https://www.ptt.cc' + atcl.find('div', class_='title').a.get('href')\n",
        "        else:\n",
        "            ttle = atcl.find('div', class_='title').text.strip()\n",
        "            href = ''\n",
        "        date = atcl.find('div', class_='date').text\n",
        "        print(date, href, ttle)\n",
        "    url = 'https://www.ptt.cc' + soup.find_all('a', class_='btn wide')[1].get('href')\n",
        "    return url\n",
        "\n",
        "url = 'https://www.ptt.cc/bbs/Gossiping/index.html'\n",
        "cookies = {'over18': '1'}\n",
        "for i in range(5):\n",
        "    url = get_articles(url)"
      ],
      "metadata": {
        "colab": {
          "base_uri": "https://localhost:8080/"
        },
        "id": "5xATJmsdw7mq",
        "outputId": "76f39bf8-b676-4372-a855-4fdd7e89275c"
      },
      "execution_count": 5,
      "outputs": [
        {
          "output_type": "stream",
          "name": "stdout",
          "text": [
            " 3/31 https://www.ptt.cc/bbs/Gossiping/M.1743433987.A.0BA.html Re: [新聞] 沒看調查資料？王義川酸「你又知道」\n",
            " 3/31 https://www.ptt.cc/bbs/Gossiping/M.1743434043.A.5E7.html [問卦] 這樣算上過電視嗎?\n",
            " 3/31 https://www.ptt.cc/bbs/Gossiping/M.1743434054.A.652.html [問卦] 看到8000次上站學長該怎麼表示☺ 發錢\n",
            " 3/31 https://www.ptt.cc/bbs/Gossiping/M.1743434063.A.B03.html Re: [問卦] 你是法官給你多少錢願意幫犯人逃跑？\n",
            " 3/31 https://www.ptt.cc/bbs/Gossiping/M.1743434086.A.33C.html [問卦] 目前為止有律師對廢物法檢發言嗎?\n",
            " 3/31 https://www.ptt.cc/bbs/Gossiping/M.1743434093.A.25A.html [新聞] 罷瑤領銜人具紅統背景 吳思瑤：被踢爆假\n",
            " 3/31 https://www.ptt.cc/bbs/Gossiping/M.1743434120.A.29B.html Re: [爆卦] 川普想選第三任的計劃\n",
            " 3/31 https://www.ptt.cc/bbs/Gossiping/M.1743434258.A.36B.html [問卦] 鏡檢說高院偽造電話紀錄\n",
            " 3/31 https://www.ptt.cc/bbs/Gossiping/M.1743434295.A.0D4.html Re: [問卦] 被判30年又有錢誰不跑啦 笑死\n",
            "11/02 https://www.ptt.cc/bbs/Gossiping/M.1730554547.A.41C.html Fw: [公告] 請留意新註冊帳號使用信件詐騙\n",
            " 1/21 https://www.ptt.cc/bbs/Gossiping/M.1737398137.A.644.html [公告] 八卦板板規(2025.01.21)\n",
            " 3/12 https://www.ptt.cc/bbs/Gossiping/M.1741791500.A.EB6.html Fw: [公告] 請避免與登入1次之帳號進行交易 發錢\n",
            " 3/28 https://www.ptt.cc/bbs/Gossiping/M.1743146619.A.5A2.html [公告] 八卦板主徵選規則修正&截止時間\n",
            " 3/31 https://www.ptt.cc/bbs/Gossiping/M.1743433413.A.698.html [問卦] 台灣哪座城市適合京都的景觀法推行？\n",
            " 3/31 https://www.ptt.cc/bbs/Gossiping/M.1743433467.A.F73.html [問卦] V了V了 \n",
            " 3/31 https://www.ptt.cc/bbs/Gossiping/M.1743433492.A.8C2.html Re: [新聞] 謝長廷曾言柯文哲收賄證據薄弱 檢察總長\n",
            " 3/31 https://www.ptt.cc/bbs/Gossiping/M.1743433506.A.3E2.html [問卦] 涓豆腐 CP值如何?\n",
            " 3/31 https://www.ptt.cc/bbs/Gossiping/M.1743433507.A.B75.html [問卦] 台熱牌除了封口機 烘乾機 還有什麼知名\n",
            " 3/31 https://www.ptt.cc/bbs/Gossiping/M.1743433552.A.600.html Re: [新聞] 綠提案修《陸海空軍刑法》　言語效忠敵人\n",
            " 3/31 https://www.ptt.cc/bbs/Gossiping/M.1743433567.A.F78.html Re: [爆卦] 高等法院自律會新聞稿\n",
            " 3/31 https://www.ptt.cc/bbs/Gossiping/M.1743433630.A.CD7.html [問卦] 有沒有老人買鞋的八卦？\n",
            " 3/31 https://www.ptt.cc/bbs/Gossiping/M.1743433649.A.D55.html [新聞] 法國極右翼領袖貪污助理費遭定罪褫奪公權\n",
            " 3/31 https://www.ptt.cc/bbs/Gossiping/M.1743433656.A.1A5.html [問卦] 被判30年又有錢誰不跑啦 笑死\n",
            " 3/31 https://www.ptt.cc/bbs/Gossiping/M.1743433672.A.656.html Re: [爆卦] 高等法院自律會新聞稿\n",
            " 3/31 https://www.ptt.cc/bbs/Gossiping/M.1743433686.A.DFB.html [問卦] 有線電視是輸在有廣告嗎？\n",
            " 3/31 https://www.ptt.cc/bbs/Gossiping/M.1743433741.A.0C6.html [問卦] 只有我覺得柯南爆幹無聊嗎??\n",
            " 3/31 https://www.ptt.cc/bbs/Gossiping/M.1743433778.A.95D.html [問卦] 現在商家簡訊驗證 都不用錢一樣？\n",
            " 3/31 https://www.ptt.cc/bbs/Gossiping/M.1743433791.A.F91.html [問卦] 台灣火鍋店會倒是不是天兵〓〓？\n",
            " 3/31 https://www.ptt.cc/bbs/Gossiping/M.1743433878.A.F64.html Re: [新聞] 沒看調查資料？王義川酸「你又知道」 秒\n",
            " 3/31 https://www.ptt.cc/bbs/Gossiping/M.1743433894.A.947.html [問卦] 政客黑道詐騙集團勾結法官4不4就無敵了？\n",
            " 3/31 https://www.ptt.cc/bbs/Gossiping/M.1743433942.A.448.html Fw: [問題] 碧藍檔案玩家對黑人說自己是種族歧視者\n",
            " 3/31 https://www.ptt.cc/bbs/Gossiping/M.1743433954.A.6CE.html [新聞] 交保想逃亡？精舍命案「運屍3嫌」違規百\n",
            " 3/31 https://www.ptt.cc/bbs/Gossiping/M.1743433976.A.10B.html [問卦] 樋口愛的歌會不會太好聽了\n",
            " 3/31 https://www.ptt.cc/bbs/Gossiping/M.1743432521.A.CB8.html Re: [問卦] 蒼藍鴿新片 醫療崩壞 牙醫分數正式超越\n",
            " 3/31 https://www.ptt.cc/bbs/Gossiping/M.1743432533.A.77A.html [問卦] 印尼遇中國同志一直想請吃飯\n",
            " 3/31 https://www.ptt.cc/bbs/Gossiping/M.1743432606.A.9EA.html Re: [新聞] 沒看調查資料？王義川酸「你又知道」 秒\n",
            " 3/31 https://www.ptt.cc/bbs/Gossiping/M.1743432623.A.73A.html [問卦] 20年前台灣經濟為什麼這麼差？\n",
            " 3/31 https://www.ptt.cc/bbs/Gossiping/M.1743432683.A.023.html [新聞] 閩南狼送別陸配恩綺被譏「小丑」　爆氣回\n",
            " 3/31 https://www.ptt.cc/bbs/Gossiping/M.1743432691.A.387.html [問卦] 急！在線等 法律系備審資料怎麼寫！\n",
            " 3/31 https://www.ptt.cc/bbs/Gossiping/M.1743432710.A.96A.html [問卦] 現實生活中接到民調電話的人多嗎?\n",
            " 3/31 https://www.ptt.cc/bbs/Gossiping/M.1743432721.A.94A.html Re: [問卦] 為什麼國外都不像台灣這麼愛騎機車?\n",
            " 3/31 https://www.ptt.cc/bbs/Gossiping/M.1743432730.A.E01.html [問卦] 中國麻辣鍋好吃嗎〓〓？\n",
            " 3/31 https://www.ptt.cc/bbs/Gossiping/M.1743432788.A.3DB.html [問卦] 你會為台海戰爭獻出你的心臟嗎?\n",
            " 3/31 https://www.ptt.cc/bbs/Gossiping/M.1743432794.A.BF0.html [問卦] 你是法官給你多少錢願意幫犯人逃跑？\n",
            " 3/31 https://www.ptt.cc/bbs/Gossiping/M.1743432802.A.A9C.html [問卦] Perplexity這個AI好用嗎\n",
            " 3/31 https://www.ptt.cc/bbs/Gossiping/M.1743432831.A.FAD.html Re: [爆卦] 高等法院自律會新聞稿\n",
            " 3/31 https://www.ptt.cc/bbs/Gossiping/M.1743433098.A.A95.html [問卦] 關稅感覺難以實施吧\n",
            " 3/31 https://www.ptt.cc/bbs/Gossiping/M.1743433138.A.CE4.html Re: [新聞] 綠提案修《陸海空軍刑法》　言語效忠敵人\n",
            " 3/31 https://www.ptt.cc/bbs/Gossiping/M.1743433141.A.CB4.html Re: [新聞] 謝長廷曾言柯文哲收賄證據薄弱 檢察總長\n",
            " 3/31 https://www.ptt.cc/bbs/Gossiping/M.1743433225.A.705.html [問卦] 言語效忠敵人跟意圖顛覆國家差在哪\n",
            " 3/31 https://www.ptt.cc/bbs/Gossiping/M.1743433325.A.892.html [問卦]香菸有健康稅 為什麼金紙不課空汙稅?\n",
            " 3/31 https://www.ptt.cc/bbs/Gossiping/M.1743433333.A.7B0.html [問卦] 愚人節沒有朋友來鬧算幸運還不幸\n",
            " 3/31 https://www.ptt.cc/bbs/Gossiping/M.1743433366.A.590.html [問卦] 台指夜盤大漲200點\n",
            " 3/31 https://www.ptt.cc/bbs/Gossiping/M.1743431860.A.673.html [問卦] 哪個yt頻道是真的有乾貨的？\n",
            " 3/31 https://www.ptt.cc/bbs/Gossiping/M.1743431927.A.76A.html [問卦] 現在乾泡麵的霸主是誰？\n",
            " 3/31 https://www.ptt.cc/bbs/Gossiping/M.1743431964.A.429.html [問卦] 發現復胖達改地址可以選很多餐廳\n",
            " 3/31 https://www.ptt.cc/bbs/Gossiping/M.1743431993.A.967.html [問卦] 我堂弟這樣的條件交的到女友嗎?\n",
            " 3/31 https://www.ptt.cc/bbs/Gossiping/M.1743432078.A.F53.html [問卦] 剛碩畢新人底薪70K算高薪嘛?\n",
            " 3/31 https://www.ptt.cc/bbs/Gossiping/M.1743432099.A.EF1.html [問卦] 再兩天就放假了？\n",
            " 3/31 https://www.ptt.cc/bbs/Gossiping/M.1743432117.A.135.html [問卦] 司法體系崩壞成這樣 法律學者呢?\n",
            " 3/31 https://www.ptt.cc/bbs/Gossiping/M.1743432179.A.F8F.html [新聞] 緬甸強震 導演趙德胤淚求各界援助\n",
            " 3/31 https://www.ptt.cc/bbs/Gossiping/M.1743432227.A.A38.html [問卦] 台灣警察其實很爽吧\n",
            " 3/31 https://www.ptt.cc/bbs/Gossiping/M.1743432247.A.F6C.html [新聞] 燒了1583噸！彰化紙錢集中寫新高 空氣污\n",
            " 3/31 https://www.ptt.cc/bbs/Gossiping/M.1743432333.A.2F8.html [問卦] 新竹 高收入 養不起一間 4DX影廳?\n",
            " 3/31 https://www.ptt.cc/bbs/Gossiping/M.1743432355.A.41D.html [問卦] 上班沒事做要幹嘛？\n",
            " 3/31 https://www.ptt.cc/bbs/Gossiping/M.1743432382.A.803.html Re: [問卦] 原來當工程師領高薪要這麼硬嗎？\n",
            " 3/31 https://www.ptt.cc/bbs/Gossiping/M.1743432418.A.89C.html [問卦] 蘇打餅乾的霸主到底是誰？\n",
            " 3/31 https://www.ptt.cc/bbs/Gossiping/M.1743432422.A.10E.html Re: [問卦] 只有我覺得李雅英毛很多嗎??\n",
            " 3/31 https://www.ptt.cc/bbs/Gossiping/M.1743432453.A.FBE.html [問卦] 韓國人生日為什麼要吃海帶湯??\n",
            " 3/31 https://www.ptt.cc/bbs/Gossiping/M.1743432455.A.34B.html [問卦] 這是阿密特3嗎\n",
            " 3/31 https://www.ptt.cc/bbs/Gossiping/M.1743432470.A.EE1.html [新聞] 快新聞／往中國末班機已飛！中配小微未離境　\n",
            " 3/31 https://www.ptt.cc/bbs/Gossiping/M.1743432474.A.336.html [問卦] 甲亢哥說他以為中國很落後\n",
            " 3/31 https://www.ptt.cc/bbs/Gossiping/M.1743432489.A.337.html Re: [問卦] 台灣為什麼不開放輕型自動車？\n",
            " 3/31 https://www.ptt.cc/bbs/Gossiping/M.1743430949.A.1A8.html [問卦] 烏克蘭股市戰前半年有大跌嗎\n",
            " 3/31 https://www.ptt.cc/bbs/Gossiping/M.1743430974.A.459.html [新聞] 美部署反艦導彈武裝亞太盟友 瞄準中共軍艦\n",
            " 3/31 https://www.ptt.cc/bbs/Gossiping/M.1743431117.A.43F.html [問卦] 好想辭職（台大IU兔兔陣線聯盟\n",
            " 3/31 https://www.ptt.cc/bbs/Gossiping/M.1743431144.A.592.html [問卦] 海帶結是怎麼活在海中的\n",
            " 3/31 https://www.ptt.cc/bbs/Gossiping/M.1743431242.A.4AC.html [新聞] 清明前夕祭史明　蔡英文憶往事：攜手團結\n",
            " 3/31 https://www.ptt.cc/bbs/Gossiping/M.1743431362.A.2B6.html Re: [問卦] AI吉卜力生成失敗!!\n",
            " 3/31  (本文已被刪除) [tigotigo5566]\n",
            " 3/31 https://www.ptt.cc/bbs/Gossiping/M.1743431460.A.11F.html [問卦] 只有我覺得李雅英毛很多嗎??\n",
            " 3/31 https://www.ptt.cc/bbs/Gossiping/M.1743431487.A.0EF.html [新聞] 醫院醫師「看房被冷眼」 他曝殘酷現實：\n",
            " 3/31 https://www.ptt.cc/bbs/Gossiping/M.1743431514.A.A53.html [問卦] 把盤殺死會發生什麼事？\n",
            " 3/31 https://www.ptt.cc/bbs/Gossiping/M.1743431531.A.992.html [問卦] 媽的雞掰林毅夫就這樣游免錢的過去哦？\n",
            " 3/31 https://www.ptt.cc/bbs/Gossiping/M.1743431539.A.E04.html [問卦] 台灣為什麼不開放輕型自動車？\n",
            " 3/31 https://www.ptt.cc/bbs/Gossiping/M.1743431573.A.F58.html [問卦] 我這是諾羅嗎？\n",
            " 3/31 https://www.ptt.cc/bbs/Gossiping/M.1743431666.A.D89.html Re: [問卦] 蒼藍鴿新片 醫療崩壞 牙醫分數正式超越\n",
            " 3/31 https://www.ptt.cc/bbs/Gossiping/M.1743431687.A.301.html [問卦] 開放外勞吃台灣獼猴？\n",
            " 3/31 https://www.ptt.cc/bbs/Gossiping/M.1743431714.A.AA4.html Re: [爆卦] 高等法院自律會新聞稿\n",
            " 3/31 https://www.ptt.cc/bbs/Gossiping/M.1743431777.A.C6C.html [新聞] 台東「2份便當500元」！換養樂多再加20元\n",
            " 3/31 https://www.ptt.cc/bbs/Gossiping/M.1743431784.A.3A1.html Re: [問卦] 原來當工程師領高薪要這麼硬嗎？\n",
            " 3/31 https://www.ptt.cc/bbs/Gossiping/M.1743431807.A.0A9.html [新聞] 謝長廷曾言柯文哲收賄證據薄弱 檢察總長\n",
            " 3/31 https://www.ptt.cc/bbs/Gossiping/M.1743431817.A.6AE.html [新聞] 迄今沒一件解凍案!羅智強爆政院要求部會\n"
          ]
        }
      ]
    }
  ]
}
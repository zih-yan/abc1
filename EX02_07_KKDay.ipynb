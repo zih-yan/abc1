{
  "nbformat": 4,
  "nbformat_minor": 0,
  "metadata": {
    "colab": {
      "provenance": [],
      "authorship_tag": "ABX9TyN+LtdhPI0BUm3Dh0Dmh6dr",
      "include_colab_link": true
    },
    "kernelspec": {
      "name": "python3",
      "display_name": "Python 3"
    },
    "language_info": {
      "name": "python"
    }
  },
  "cells": [
    {
      "cell_type": "markdown",
      "metadata": {
        "id": "view-in-github",
        "colab_type": "text"
      },
      "source": [
        "<a href=\"https://colab.research.google.com/github/zih-yan/abc1/blob/main/EX02_07_KKDay.ipynb\" target=\"_parent\"><img src=\"https://colab.research.google.com/assets/colab-badge.svg\" alt=\"Open In Colab\"/></a>"
      ]
    },
    {
      "cell_type": "code",
      "execution_count": 2,
      "metadata": {
        "id": "MwuSK0ez5Ffe",
        "colab": {
          "base_uri": "https://localhost:8080/"
        },
        "outputId": "875d2bf9-562e-4bd2-f243-34626952206c"
      },
      "outputs": [
        {
          "output_type": "execute_result",
          "data": {
            "text/plain": [
              "<title>最熱門 東京 住宿 - 2025 更新 - KKday</title>"
            ]
          },
          "metadata": {},
          "execution_count": 2
        }
      ],
      "source": [
        "import requests\n",
        "from bs4 import BeautifulSoup\n",
        "url = \"https://www.kkday.com/zh-tw/category/jp-tokyo/accommodation\"\n",
        "headers = {'user-agent': 'Mozilla/5.0 (Windows NT 10.0; Win64; x64) AppleWebKit/537.36 (KHTML, like Gecko) Chrome/129.0.0.0 Safari/537.36'}\n",
        "response = requests.get(url, headers=headers)\n",
        "soup = BeautifulSoup(response.text, 'lxml')\n",
        "soup.title"
      ]
    },
    {
      "cell_type": "code",
      "source": [
        "soup.find('h3' ,class_='product-card__title').text"
      ],
      "metadata": {
        "colab": {
          "base_uri": "https://localhost:8080/",
          "height": 144
        },
        "id": "t27rXfgj6UpI",
        "outputId": "af45373e-684a-4398-e6f6-efbddb5a3185"
      },
      "execution_count": 3,
      "outputs": [
        {
          "output_type": "error",
          "ename": "AttributeError",
          "evalue": "'NoneType' object has no attribute 'text'",
          "traceback": [
            "\u001b[0;31m---------------------------------------------------------------------------\u001b[0m",
            "\u001b[0;31mAttributeError\u001b[0m                            Traceback (most recent call last)",
            "\u001b[0;32m<ipython-input-3-842090558>\u001b[0m in \u001b[0;36m<cell line: 0>\u001b[0;34m()\u001b[0m\n\u001b[0;32m----> 1\u001b[0;31m \u001b[0msoup\u001b[0m\u001b[0;34m.\u001b[0m\u001b[0mfind\u001b[0m\u001b[0;34m(\u001b[0m\u001b[0;34m'h3'\u001b[0m \u001b[0;34m,\u001b[0m\u001b[0mclass_\u001b[0m\u001b[0;34m=\u001b[0m\u001b[0;34m'product-card__title'\u001b[0m\u001b[0;34m)\u001b[0m\u001b[0;34m.\u001b[0m\u001b[0mtext\u001b[0m\u001b[0;34m\u001b[0m\u001b[0;34m\u001b[0m\u001b[0m\n\u001b[0m",
            "\u001b[0;31mAttributeError\u001b[0m: 'NoneType' object has no attribute 'text'"
          ]
        }
      ]
    },
    {
      "cell_type": "code",
      "source": [
        "import requests\n",
        "url = 'https://www.kkday.com/zh-tw/category/ajax_get_top_products?productCategory=CATEGORY_078&destination=D-JP-3261'\n",
        "headers = {'user-agent': 'Mozilla/5.0 (Windows NT 10.0; Win64; x64) AppleWebKit/537.36 (KHTML, like Gecko) Chrome/129.0.0.0 Safari/537.36'}\n",
        "response = requests.get (url,headers=headers)\n",
        "hotels = response.json ()"
      ],
      "metadata": {
        "id": "qQiK1AaX6rKw"
      },
      "execution_count": 4,
      "outputs": []
    },
    {
      "cell_type": "code",
      "source": [
        "hotels['data'][0]"
      ],
      "metadata": {
        "colab": {
          "base_uri": "https://localhost:8080/"
        },
        "id": "Stz9Gi6p68qS",
        "outputId": "49589d55-e2e2-40fb-a0d1-d86243927996"
      },
      "execution_count": 5,
      "outputs": [
        {
          "output_type": "execute_result",
          "data": {
            "text/plain": [
              "{'prod_mid': 193898,\n",
              " 'prod_oid': 193898,\n",
              " 'name': '日暮里阿爾蒙特飯店',\n",
              " 'introduction': '享受日暮里阿爾蒙特飯店的舒適住宿,便捷至東京主要景點,立即預訂,開啟您的東京之旅!',\n",
              " 'rating_count': 0,\n",
              " 'rating_star': 0,\n",
              " 'show_order_count': '',\n",
              " 'earliest_sale_date': '20250611',\n",
              " 'sale_status': 1,\n",
              " 'purchase_type': None,\n",
              " 'purchase_date': None,\n",
              " 'is_tourism_product': True,\n",
              " 'readable_url': None,\n",
              " 'product_category': {'main': 'CATEGORY_078', 'sub': []},\n",
              " 'display_tags': ['出發前可免費取消', '2天前可免費取消', '即買即用'],\n",
              " 'img_url_list': ['https://image.kkday.com/image/get/w_600%2Cc_fit/s1.kkday.com/product_193898/20241029064831_EWA64/png',\n",
              "  'https://image.kkday.com/image/get/w_600%2Cc_fit/s1.kkday.com/product_193898/20241029064831_TGZqI/png',\n",
              "  'https://image.kkday.com/image/get/w_600%2Cc_fit/s1.kkday.com/product_193898/20241029064831_fTiBR/png',\n",
              "  'https://image.kkday.com/image/get/w_600%2Cc_fit/s1.kkday.com/product_193898/20241029064831_UvuMF/png',\n",
              "  'https://image.kkday.com/image/get/w_600%2Cc_fit/s1.kkday.com/product_193898/20241029064831_M7mwD/png'],\n",
              " 'currency': 'TWD',\n",
              " 'official_price': 2864,\n",
              " 'max_price': 19156,\n",
              " 'min_price': 2864,\n",
              " 'discount': 0,\n",
              " 'is_display_price': False,\n",
              " 'destinations': [{'code': 'D-JP-3261', 'name': '東京'},\n",
              "  {'code': 'D-JP-3218', 'name': '關東'},\n",
              "  {'code': 'D-JP-112', 'name': '日本'}],\n",
              " 'is_marketplace': False,\n",
              " 'supplier_oid_list': [21011],\n",
              " 'supplier_name': None,\n",
              " 'supplier_logo': None,\n",
              " 'supplier_badge': 0,\n",
              " 'is_zero_price': False,\n",
              " 'is_kkday_best_route': False,\n",
              " 'prod_discount_type': None,\n",
              " 'instant_booking': True}"
            ]
          },
          "metadata": {},
          "execution_count": 5
        }
      ]
    },
    {
      "cell_type": "code",
      "source": [
        "from IPython.display import Image, display\n",
        "\n",
        "for hotel in hotels['data']:\n",
        "    print(hotel['name'],hotel['rating_star'],hotel['sale_price'])\n",
        "    print(hotel['introduction'])\n",
        "    display(Image(url=hotel['image_url'], width=300))\n",
        "    print('-'*3)\n",
        "    print()"
      ],
      "metadata": {
        "colab": {
          "base_uri": "https://localhost:8080/",
          "height": 216
        },
        "id": "AbaE0pFm7ROY",
        "outputId": "80f60402-0390-4dd1-966c-36d6d96bfa6e"
      },
      "execution_count": 6,
      "outputs": [
        {
          "output_type": "error",
          "ename": "KeyError",
          "evalue": "'sale_price'",
          "traceback": [
            "\u001b[0;31m---------------------------------------------------------------------------\u001b[0m",
            "\u001b[0;31mKeyError\u001b[0m                                  Traceback (most recent call last)",
            "\u001b[0;32m<ipython-input-6-910254629>\u001b[0m in \u001b[0;36m<cell line: 0>\u001b[0;34m()\u001b[0m\n\u001b[1;32m      2\u001b[0m \u001b[0;34m\u001b[0m\u001b[0m\n\u001b[1;32m      3\u001b[0m \u001b[0;32mfor\u001b[0m \u001b[0mhotel\u001b[0m \u001b[0;32min\u001b[0m \u001b[0mhotels\u001b[0m\u001b[0;34m[\u001b[0m\u001b[0;34m'data'\u001b[0m\u001b[0;34m]\u001b[0m\u001b[0;34m:\u001b[0m\u001b[0;34m\u001b[0m\u001b[0;34m\u001b[0m\u001b[0m\n\u001b[0;32m----> 4\u001b[0;31m     \u001b[0mprint\u001b[0m\u001b[0;34m(\u001b[0m\u001b[0mhotel\u001b[0m\u001b[0;34m[\u001b[0m\u001b[0;34m'name'\u001b[0m\u001b[0;34m]\u001b[0m\u001b[0;34m,\u001b[0m\u001b[0mhotel\u001b[0m\u001b[0;34m[\u001b[0m\u001b[0;34m'rating_star'\u001b[0m\u001b[0;34m]\u001b[0m\u001b[0;34m,\u001b[0m\u001b[0mhotel\u001b[0m\u001b[0;34m[\u001b[0m\u001b[0;34m'sale_price'\u001b[0m\u001b[0;34m]\u001b[0m\u001b[0;34m)\u001b[0m\u001b[0;34m\u001b[0m\u001b[0;34m\u001b[0m\u001b[0m\n\u001b[0m\u001b[1;32m      5\u001b[0m     \u001b[0mprint\u001b[0m\u001b[0;34m(\u001b[0m\u001b[0mhotel\u001b[0m\u001b[0;34m[\u001b[0m\u001b[0;34m'introduction'\u001b[0m\u001b[0;34m]\u001b[0m\u001b[0;34m)\u001b[0m\u001b[0;34m\u001b[0m\u001b[0;34m\u001b[0m\u001b[0m\n\u001b[1;32m      6\u001b[0m     \u001b[0mdisplay\u001b[0m\u001b[0;34m(\u001b[0m\u001b[0mImage\u001b[0m\u001b[0;34m(\u001b[0m\u001b[0murl\u001b[0m\u001b[0;34m=\u001b[0m\u001b[0mhotel\u001b[0m\u001b[0;34m[\u001b[0m\u001b[0;34m'image_url'\u001b[0m\u001b[0;34m]\u001b[0m\u001b[0;34m,\u001b[0m \u001b[0mwidth\u001b[0m\u001b[0;34m=\u001b[0m\u001b[0;36m300\u001b[0m\u001b[0;34m)\u001b[0m\u001b[0;34m)\u001b[0m\u001b[0;34m\u001b[0m\u001b[0;34m\u001b[0m\u001b[0m\n",
            "\u001b[0;31mKeyError\u001b[0m: 'sale_price'"
          ]
        }
      ]
    }
  ]
}
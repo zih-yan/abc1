{
  "nbformat": 4,
  "nbformat_minor": 0,
  "metadata": {
    "colab": {
      "provenance": [],
      "authorship_tag": "ABX9TyMRaIMEZ+06pBCS4rBbRXgz",
      "include_colab_link": true
    },
    "kernelspec": {
      "name": "python3",
      "display_name": "Python 3"
    },
    "language_info": {
      "name": "python"
    }
  },
  "cells": [
    {
      "cell_type": "markdown",
      "metadata": {
        "id": "view-in-github",
        "colab_type": "text"
      },
      "source": [
        "<a href=\"https://colab.research.google.com/github/zih-yan/abc1/blob/main/EX01_02_BMI.ipynb\" target=\"_parent\"><img src=\"https://colab.research.google.com/assets/colab-badge.svg\" alt=\"Open In Colab\"/></a>"
      ]
    },
    {
      "cell_type": "code",
      "execution_count": 2,
      "metadata": {
        "colab": {
          "base_uri": "https://localhost:8080/"
        },
        "id": "-NQ-way-K6z-",
        "outputId": "348b628e-4b86-41ec-c11d-e722ca55cfea"
      },
      "outputs": [
        {
          "output_type": "stream",
          "name": "stdout",
          "text": [
            "height(cm):150\n",
            "weight(kg):40\n",
            "BMI: 17.8\n"
          ]
        }
      ],
      "source": [
        "ht = float( input('height(cm):'))\n",
        "wt = float( input('weight(kg):'))\n",
        "bmi = wt/ (ht/100)**2\n",
        "print('BMI:',round(bmi, 1))"
      ]
    }
  ]
}